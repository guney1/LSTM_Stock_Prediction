{
  "nbformat": 4,
  "nbformat_minor": 0,
  "metadata": {
    "colab": {
      "name": "LSTM OOP.ipynb",
      "provenance": [],
      "include_colab_link": true
    },
    "kernelspec": {
      "name": "python3",
      "display_name": "Python 3"
    }
  },
  "cells": [
    {
      "cell_type": "markdown",
      "metadata": {
        "id": "view-in-github",
        "colab_type": "text"
      },
      "source": [
        "<a href=\"https://colab.research.google.com/github/guney1/LSTM_Stock_Prediction/blob/master/LSTM_OOP.ipynb\" target=\"_parent\"><img src=\"https://colab.research.google.com/assets/colab-badge.svg\" alt=\"Open In Colab\"/></a>"
      ]
    },
    {
      "cell_type": "markdown",
      "metadata": {
        "id": "5Gse2swo_KfL",
        "colab_type": "text"
      },
      "source": [
        "# LSTM Stock Prediction OOP"
      ]
    },
    {
      "cell_type": "code",
      "metadata": {
        "id": "2HcR0qHRy3M5",
        "colab_type": "code",
        "colab": {
          "base_uri": "https://localhost:8080/",
          "height": 124
        },
        "outputId": "93aadbc9-1952-48c3-cd3e-90d73be287a9"
      },
      "source": [
        "from google.colab import drive\n",
        "drive.mount('/content/gdrive')"
      ],
      "execution_count": 1,
      "outputs": [
        {
          "output_type": "stream",
          "text": [
            "Go to this URL in a browser: https://accounts.google.com/o/oauth2/auth?client_id=947318989803-6bn6qk8qdgf4n4g3pfee6491hc0brc4i.apps.googleusercontent.com&redirect_uri=urn%3aietf%3awg%3aoauth%3a2.0%3aoob&response_type=code&scope=email%20https%3a%2f%2fwww.googleapis.com%2fauth%2fdocs.test%20https%3a%2f%2fwww.googleapis.com%2fauth%2fdrive%20https%3a%2f%2fwww.googleapis.com%2fauth%2fdrive.photos.readonly%20https%3a%2f%2fwww.googleapis.com%2fauth%2fpeopleapi.readonly\n",
            "\n",
            "Enter your authorization code:\n",
            "··········\n",
            "Mounted at /content/gdrive\n"
          ],
          "name": "stdout"
        }
      ]
    },
    {
      "cell_type": "code",
      "metadata": {
        "id": "VfUl1uu4y_F3",
        "colab_type": "code",
        "colab": {}
      },
      "source": [
        "!wget http://prdownloads.sourceforge.net/ta-lib/ta-lib-0.4.0-src.tar.gz\n",
        "!tar -xzvf ta-lib-0.4.0-src.tar.gz\n",
        "%cd ta-lib\n",
        "!./configure --prefix=/usr\n",
        "!make\n",
        "!make install\n",
        "!pip install Ta-Lib\n"
      ],
      "execution_count": 0,
      "outputs": []
    },
    {
      "cell_type": "markdown",
      "metadata": {
        "id": "v9Nuk96I_XpQ",
        "colab_type": "text"
      },
      "source": [
        "## DataProcess and Model_Class_5 in the repo"
      ]
    },
    {
      "cell_type": "code",
      "metadata": {
        "id": "HxzzmcamzKYG",
        "colab_type": "code",
        "colab": {
          "base_uri": "https://localhost:8080/",
          "height": 64
        },
        "outputId": "c80371e1-c774-4350-a4dd-e02559d1fb3c"
      },
      "source": [
        "import matplotlib.pyplot as plt\n",
        "import pandas as pd\n",
        "import pandas_datareader.data as web\n",
        "import tensorflow as tf\n",
        "import numpy as np\n",
        "from sklearn.preprocessing import MinMaxScaler\n",
        "from sklearn.metrics import classification_report\n",
        "from functools import partial\n",
        "import talib\n",
        "from sklearn.metrics import accuracy_score\n",
        "from sklearn.metrics import mean_absolute_error\n",
        "from sklearn.metrics import mean_squared_error\n",
        "from DataProcess import *\n",
        "from Model_Class_5 import *"
      ],
      "execution_count": 1,
      "outputs": [
        {
          "output_type": "display_data",
          "data": {
            "text/html": [
              "<p style=\"color: red;\">\n",
              "The default version of TensorFlow in Colab will soon switch to TensorFlow 2.x.<br>\n",
              "We recommend you <a href=\"https://www.tensorflow.org/guide/migrate\" target=\"_blank\">upgrade</a> now \n",
              "or ensure your notebook will continue to use TensorFlow 1.x via the <code>%tensorflow_version 1.x</code> magic:\n",
              "<a href=\"https://colab.research.google.com/notebooks/tensorflow_version.ipynb\" target=\"_blank\">more info</a>.</p>\n"
            ],
            "text/plain": [
              "<IPython.core.display.HTML object>"
            ]
          },
          "metadata": {
            "tags": []
          }
        }
      ]
    },
    {
      "cell_type": "code",
      "metadata": {
        "id": "p3Z9YVF7z7Cd",
        "colab_type": "code",
        "colab": {}
      },
      "source": [
        "start_date = '1970-12-31'\n",
        "end_date = '2019-06-09'\n",
        "process = DataProcess(\"AAPL\", start_date, end_date)\n"
      ],
      "execution_count": 0,
      "outputs": []
    },
    {
      "cell_type": "code",
      "metadata": {
        "id": "TL8CLXyd0IEL",
        "colab_type": "code",
        "colab": {}
      },
      "source": [
        "df, backtest = process.divide_data('2018-03-28', '2019-06-06')"
      ],
      "execution_count": 0,
      "outputs": []
    },
    {
      "cell_type": "code",
      "metadata": {
        "id": "DNnNwf9q0Kgb",
        "colab_type": "code",
        "colab": {}
      },
      "source": [
        "main_df = process.process_data()"
      ],
      "execution_count": 0,
      "outputs": []
    },
    {
      "cell_type": "code",
      "metadata": {
        "id": "dPYJTPPx0TN5",
        "colab_type": "code",
        "colab": {}
      },
      "source": [
        "X_train, y_train, X_test, y_test, X_out_sample, y_out_sample, out_yo = process.prepare_model()"
      ],
      "execution_count": 0,
      "outputs": []
    },
    {
      "cell_type": "code",
      "metadata": {
        "id": "1o9NMqKY0aKp",
        "colab_type": "code",
        "colab": {}
      },
      "source": [
        "n_steps = 20\n",
        "n_inputs = X_train.shape[1]\n",
        "num_nodes = 200\n",
        "n_layers = 2\n",
        "n_outputs = 1\n",
        "mod = model(n_steps, n_inputs, num_nodes, n_layers, n_outputs)"
      ],
      "execution_count": 0,
      "outputs": []
    },
    {
      "cell_type": "code",
      "metadata": {
        "id": "Omk-FVhN0e9G",
        "colab_type": "code",
        "colab": {}
      },
      "source": [
        "mod.construct(X_test, y_test, X_out_sample, y_out_sample)"
      ],
      "execution_count": 0,
      "outputs": []
    },
    {
      "cell_type": "code",
      "metadata": {
        "id": "yMa7lvZW0iBi",
        "colab_type": "code",
        "colab": {
          "base_uri": "https://localhost:8080/",
          "height": 1000
        },
        "outputId": "d7af3373-891b-4d87-f36d-92db0c38b826"
      },
      "source": [
        "mod.fit(X_train, y_train, \n",
        "        save_path=\"/content/gdrive/My Drive/Colab Notebooks/my_LSTM_model_grad_trial_10\",  return_loss=False)"
      ],
      "execution_count": 8,
      "outputs": [
        {
          "output_type": "stream",
          "text": [
            "WARNING:tensorflow:From /content/Model_Class_5.py:93: The name tf.Session is deprecated. Please use tf.compat.v1.Session instead.\n",
            "\n",
            "0 \tMSE: 0.0032718675  MSE_TEST 0.006860765  MSE_out 0.0013873449\n",
            "1 \tMSE: 0.00072370993  MSE_TEST 0.002391272  MSE_out 0.0005442381\n",
            "2 \tMSE: 0.0063066455  MSE_TEST 0.00936977  MSE_out 0.0071810256\n",
            "3 \tMSE: 0.0007280792  MSE_TEST 0.001123865  MSE_out 0.0005681184\n",
            "4 \tMSE: 0.0016058998  MSE_TEST 0.00062496844  MSE_out 0.00041284726\n",
            "5 \tMSE: 0.0007376918  MSE_TEST 0.00033354934  MSE_out 0.0003739207\n",
            "6 \tMSE: 0.00067602104  MSE_TEST 0.0003070982  MSE_out 0.00029108336\n",
            "7 \tMSE: 0.0006438929  MSE_TEST 0.0004410877  MSE_out 0.00048768148\n",
            "8 \tMSE: 0.001078526  MSE_TEST 0.00015149997  MSE_out 0.00024101278\n",
            "9 \tMSE: 0.000591216  MSE_TEST 0.00022275043  MSE_out 0.00032067607\n",
            "10 \tMSE: 0.00060612836  MSE_TEST 0.00013381464  MSE_out 0.00022770479\n",
            "11 \tMSE: 0.00042796574  MSE_TEST 0.00012525555  MSE_out 0.00023674512\n",
            "12 \tMSE: 0.000494085  MSE_TEST 0.00011671017  MSE_out 0.0002190947\n",
            "13 \tMSE: 0.00041658193  MSE_TEST 0.00023416695  MSE_out 0.00033552374\n",
            "14 \tMSE: 0.00036916483  MSE_TEST 0.00010774051  MSE_out 0.00021457887\n",
            "15 \tMSE: 0.0006739423  MSE_TEST 0.00015376341  MSE_out 0.00025849606\n",
            "16 \tMSE: 0.0005001322  MSE_TEST 0.00011798572  MSE_out 0.0002156604\n",
            "17 \tMSE: 0.00049755536  MSE_TEST 0.00013003148  MSE_out 0.00022694988\n",
            "18 \tMSE: 0.00056461006  MSE_TEST 0.00013616751  MSE_out 0.0002464938\n",
            "19 \tMSE: 0.000490594  MSE_TEST 0.00011038748  MSE_out 0.00021519758\n",
            "20 \tMSE: 0.0005006329  MSE_TEST 0.00011328658  MSE_out 0.00021246655\n",
            "21 \tMSE: 0.0004092438  MSE_TEST 0.0001843821  MSE_out 0.0002830819\n",
            "22 \tMSE: 0.00051511434  MSE_TEST 0.0001158188  MSE_out 0.0002141176\n",
            "23 \tMSE: 0.00051951065  MSE_TEST 0.00013362362  MSE_out 0.00021998251\n",
            "24 \tMSE: 0.00041193241  MSE_TEST 0.00018192224  MSE_out 0.00028835132\n",
            "25 \tMSE: 0.0005031623  MSE_TEST 0.00011849748  MSE_out 0.00022437605\n",
            "26 \tMSE: 0.00042525618  MSE_TEST 0.00013332097  MSE_out 0.00022630776\n",
            "27 \tMSE: 0.00050747773  MSE_TEST 0.00016921147  MSE_out 0.00028887147\n",
            "28 \tMSE: 0.00055524556  MSE_TEST 0.00013366075  MSE_out 0.00023739008\n",
            "29 \tMSE: 0.000559995  MSE_TEST 0.00015069419  MSE_out 0.00026728443\n",
            "30 \tMSE: 0.0008649404  MSE_TEST 0.00029865516  MSE_out 0.0003321748\n",
            "31 \tMSE: 0.0004630922  MSE_TEST 0.00013503725  MSE_out 0.00023715915\n",
            "32 \tMSE: 0.00055847625  MSE_TEST 0.00016001979  MSE_out 0.00025364416\n",
            "33 \tMSE: 0.00028846698  MSE_TEST 0.00014479672  MSE_out 0.00024919637\n",
            "34 \tMSE: 0.00045410858  MSE_TEST 0.00015337922  MSE_out 0.0002582192\n",
            "35 \tMSE: 0.00062970456  MSE_TEST 0.00012298327  MSE_out 0.00022287157\n",
            "36 \tMSE: 0.00059100945  MSE_TEST 0.00022399567  MSE_out 0.00030164397\n",
            "37 \tMSE: 0.00046749716  MSE_TEST 0.00013911047  MSE_out 0.00024191574\n",
            "38 \tMSE: 0.0006718705  MSE_TEST 0.00026130563  MSE_out 0.00036506008\n",
            "39 \tMSE: 0.00035377053  MSE_TEST 0.00016329056  MSE_out 0.00026146637\n",
            "40 \tMSE: 0.0003909653  MSE_TEST 0.00014607667  MSE_out 0.00024416545\n",
            "41 \tMSE: 0.00047043103  MSE_TEST 0.00013830797  MSE_out 0.00023378077\n",
            "42 \tMSE: 0.00034920766  MSE_TEST 0.00014288013  MSE_out 0.00023349248\n",
            "43 \tMSE: 0.0004299231  MSE_TEST 0.00013862072  MSE_out 0.00022071386\n",
            "44 \tMSE: 0.0006483655  MSE_TEST 0.00029062876  MSE_out 0.00036730195\n",
            "45 \tMSE: 0.00053566985  MSE_TEST 0.0001835284  MSE_out 0.0002932105\n",
            "46 \tMSE: 0.00044557886  MSE_TEST 0.00017891853  MSE_out 0.00027625487\n",
            "47 \tMSE: 0.00043468745  MSE_TEST 0.00018253934  MSE_out 0.00026927586\n",
            "48 \tMSE: 0.0004124197  MSE_TEST 0.00017541615  MSE_out 0.00027794094\n",
            "49 \tMSE: 0.0003244228  MSE_TEST 0.00023680493  MSE_out 0.00029466127\n",
            "50 \tMSE: 0.0005586497  MSE_TEST 0.00020577367  MSE_out 0.00029999838\n",
            "51 \tMSE: 0.0005330928  MSE_TEST 0.00019716444  MSE_out 0.00028933788\n",
            "52 \tMSE: 0.00041784934  MSE_TEST 0.00014094735  MSE_out 0.00022708731\n",
            "53 \tMSE: 0.000406582  MSE_TEST 0.00015513587  MSE_out 0.00023269052\n",
            "54 \tMSE: 0.00059864647  MSE_TEST 0.00014394074  MSE_out 0.0002321149\n",
            "55 \tMSE: 0.00042209312  MSE_TEST 0.00014551054  MSE_out 0.00023464236\n",
            "Early stopping!\n"
          ],
          "name": "stdout"
        }
      ]
    },
    {
      "cell_type": "code",
      "metadata": {
        "id": "zYjbuKXe1Dx7",
        "colab_type": "code",
        "colab": {
          "base_uri": "https://localhost:8080/",
          "height": 34
        },
        "outputId": "0912c6e6-ef12-4d1f-daeb-05328e9e5232"
      },
      "source": [
        "y_test_pred, y_pred_out = mod.predict(model_path=\"/content/gdrive/My Drive/Colab Notebooks/my_LSTM_model_grad_trial_10\", \n",
        "                                      X_test=mod.X_test, X_out_sample=mod.X_out_sample)"
      ],
      "execution_count": 9,
      "outputs": [
        {
          "output_type": "stream",
          "text": [
            "INFO:tensorflow:Restoring parameters from /content/gdrive/My Drive/Colab Notebooks/my_LSTM_model_grad_trial_10\n"
          ],
          "name": "stdout"
        }
      ]
    },
    {
      "cell_type": "code",
      "metadata": {
        "id": "tL80-QGu9Xd_",
        "colab_type": "code",
        "colab": {
          "base_uri": "https://localhost:8080/",
          "height": 86
        },
        "outputId": "d8d52e9c-5b12-4c5d-a094-324da391ad53"
      },
      "source": [
        "mod.evalu(y_test.reshape(-1,), y_out_sample.reshape(-1,))"
      ],
      "execution_count": 10,
      "outputs": [
        {
          "output_type": "stream",
          "text": [
            " MSE-Valid: 0.00010866600585636276 \n",
            " MSE-Test: 0.00021457886374761943 \n",
            " R,Squared-Valid: 0.2088706219478031 \n",
            " R,Squared-Test: 0.1298144456379566\n"
          ],
          "name": "stdout"
        }
      ]
    },
    {
      "cell_type": "code",
      "metadata": {
        "id": "lUh8CTOi9Z54",
        "colab_type": "code",
        "colab": {
          "base_uri": "https://localhost:8080/",
          "height": 190
        },
        "outputId": "2aaaa9b5-db4b-4957-f555-534e9f764e17"
      },
      "source": [
        "mod.evalu_direct(y_test=y_out_sample.reshape(-1,), y_pred=y_pred_out.reshape(-1,))"
      ],
      "execution_count": 11,
      "outputs": [
        {
          "output_type": "stream",
          "text": [
            "ACCR Score: 0.7033333333333334\n",
            "              precision    recall  f1-score   support\n",
            "\n",
            "           0       0.63      0.73      0.68       127\n",
            "           1       0.78      0.68      0.73       173\n",
            "\n",
            "    accuracy                           0.70       300\n",
            "   macro avg       0.70      0.71      0.70       300\n",
            "weighted avg       0.71      0.70      0.71       300\n",
            "\n"
          ],
          "name": "stdout"
        }
      ]
    }
  ]
}