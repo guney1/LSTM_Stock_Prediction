{
  "nbformat": 4,
  "nbformat_minor": 0,
  "metadata": {
    "colab": {
      "name": "Optimized_LSTM.ipynb",
      "version": "0.3.2",
      "provenance": [],
      "collapsed_sections": [],
      "toc_visible": true,
      "include_colab_link": true
    },
    "kernelspec": {
      "name": "python3",
      "display_name": "Python 3"
    },
    "accelerator": "GPU"
  },
  "cells": [
    {
      "cell_type": "markdown",
      "metadata": {
        "id": "view-in-github",
        "colab_type": "text"
      },
      "source": [
        "<a href=\"https://colab.research.google.com/github/guney1/LSTM_Stock_Prediction/blob/master/Optimized_LSTM.ipynb\" target=\"_parent\"><img src=\"https://colab.research.google.com/assets/colab-badge.svg\" alt=\"Open In Colab\"/></a>"
      ]
    },
    {
      "cell_type": "code",
      "metadata": {
        "id": "tH18yOqVD3kf",
        "colab_type": "code",
        "outputId": "a145ee72-2e0a-4b4a-8c69-e9f4db9a87d0",
        "colab": {
          "base_uri": "https://localhost:8080/",
          "height": 54
        }
      },
      "source": [
        "from google.colab import drive\n",
        "drive.mount('/content/gdrive')"
      ],
      "execution_count": 0,
      "outputs": [
        {
          "output_type": "stream",
          "text": [
            "Drive already mounted at /content/gdrive; to attempt to forcibly remount, call drive.mount(\"/content/gdrive\", force_remount=True).\n"
          ],
          "name": "stdout"
        }
      ]
    },
    {
      "cell_type": "markdown",
      "metadata": {
        "id": "jOSEMtk4-BvT",
        "colab_type": "text"
      },
      "source": [
        "# Get the required libaries"
      ]
    },
    {
      "cell_type": "code",
      "metadata": {
        "id": "0nXmb7_FEEW1",
        "colab_type": "code",
        "colab": {}
      },
      "source": [
        "from tensorflow.python.client import device_lib\n",
        "print(device_lib.list_local_devices())"
      ],
      "execution_count": 0,
      "outputs": []
    },
    {
      "cell_type": "code",
      "metadata": {
        "id": "ckT0NUqsEQov",
        "colab_type": "code",
        "colab": {}
      },
      "source": [
        "!wget http://prdownloads.sourceforge.net/ta-lib/ta-lib-0.4.0-src.tar.gz\n",
        "!tar -xzvf ta-lib-0.4.0-src.tar.gz\n",
        "%cd ta-lib\n",
        "!./configure --prefix=/usr\n",
        "!make\n",
        "!make install\n",
        "!pip install Ta-Lib\n"
      ],
      "execution_count": 0,
      "outputs": []
    },
    {
      "cell_type": "code",
      "metadata": {
        "id": "kGdKeurfEafj",
        "colab_type": "code",
        "colab": {}
      },
      "source": [
        "import matplotlib.pyplot as plt\n",
        "import pandas as pd\n",
        "import pandas_datareader.data as web\n",
        "import tensorflow as tf\n",
        "import numpy as np\n",
        "from sklearn.preprocessing import MinMaxScaler\n",
        "from sklearn.metrics import classification_report\n",
        "from functools import partial\n",
        "import talib\n",
        "from sklearn.metrics import accuracy_score"
      ],
      "execution_count": 0,
      "outputs": []
    },
    {
      "cell_type": "code",
      "metadata": {
        "id": "UVZg7PJ3FMu4",
        "colab_type": "code",
        "outputId": "ae27c190-8e54-4f9e-abf0-ccbe9a53b621",
        "colab": {
          "base_uri": "https://localhost:8080/",
          "height": 34
        }
      },
      "source": [
        "tf.__version__"
      ],
      "execution_count": 0,
      "outputs": [
        {
          "output_type": "execute_result",
          "data": {
            "text/plain": [
              "'1.13.1'"
            ]
          },
          "metadata": {
            "tags": []
          },
          "execution_count": 5
        }
      ]
    },
    {
      "cell_type": "markdown",
      "metadata": {
        "id": "BWDwNk2g-Kyl",
        "colab_type": "text"
      },
      "source": [
        "# Get the Data and Process it"
      ]
    },
    {
      "cell_type": "code",
      "metadata": {
        "id": "YVYj5UpkXZYW",
        "colab_type": "code",
        "colab": {}
      },
      "source": [
        "start_date = '1970-12-31'\n",
        "end_date = '2019-04-12'\n",
        "df = web.DataReader('AAPL', 'yahoo', start_date, end_date)\n",
        "df = df.drop([\"Adj Close\"], axis=1)\n",
        "df[\"mid\"] = (df[\"High\"]+df[\"Low\"])/2\n",
        "df_backtest = df.copy()\n",
        "df_backtest[\"close_return\"] = df_backtest[\"Close\"].pct_change(1)\n",
        "df_backtest[\"close_return_1df\"] = df_backtest[\"close_return\"].shift(-1)\n",
        "df_backtest = df_backtest[\"'2017-09-06'\":'2018-11-12']"
      ],
      "execution_count": 0,
      "outputs": []
    },
    {
      "cell_type": "code",
      "metadata": {
        "id": "4BX74BvbEs4-",
        "colab_type": "code",
        "colab": {}
      },
      "source": [
        "df[\"mid\"] = (df[\"High\"]+df[\"Low\"])/2\n",
        "df[\"return_log\"] = df[\"mid\"].pct_change(1)\n",
        "# Smooth data with Double exponential moving average\n",
        "df[\"Close\"] = talib.DEMA(np.array(df[\"Close\"]), timeperiod=3)\n",
        "df[\"High\"] = talib.DEMA(np.array(df[\"High\"]), timeperiod=3)\n",
        "df[\"Low\"] = talib.DEMA(np.array(df[\"Low\"]), timeperiod=3)\n",
        "df[\"Open\"] = talib.DEMA(np.array(df[\"Open\"]), timeperiod=3)\n",
        "# Add tech indicators\n",
        "df[\"dema\"] = talib.DEMA(np.array(df[\"Close\"]), timeperiod=30) #Double Exponential Moving Average\n",
        "df[\"kama\"] = talib.KAMA(np.array(df[\"Close\"]), timeperiod=30) # Kaufman Adaptive Moving Average\n",
        "df[\"trima\"] = talib.TRIMA(np.array(df[\"Close\"]), timeperiod=30) # Triple exponential\n",
        "df[\"WMA\"] = talib.WMA(np.array(df[\"Close\"]), timeperiod=30) # Weighted moving average\n",
        "df[\"adx\"] = talib.ADX(np.array(df[\"High\"]), np.array(df[\"Low\"]), np.array(df[\"Close\"]), timeperiod=14) \n",
        "df[\"adxr\"] = talib.ADXR(np.array(df[\"High\"]), np.array(df[\"Low\"]), np.array(df[\"Close\"]), timeperiod=14) \n",
        "df[\"apo\"] = talib.APO(np.array(df[\"Close\"]), fastperiod=12, slowperiod=26)\n",
        "df[\"aroondown\"], df[\"aroonup\"] = talib.AROON(np.array(df[\"High\"]), np.array(df[\"Low\"]), timeperiod=14) \n",
        "df[\"aroonosc\"] = talib.AROONOSC(np.array(df[\"High\"]), np.array(df[\"Low\"]), timeperiod=14)\n",
        "df[\"bop\"] = talib.BOP(np.array(df[\"Open\"]), np.array(df[\"High\"]), np.array(df[\"Low\"]), np.array(df[\"Close\"])) \n",
        "df[\"cmo\"] = talib.CMO(np.array(df[\"Close\"]), timeperiod=14) \n",
        "df[\"dx\"] = talib.DX(np.array(df[\"High\"]), np.array(df[\"Low\"]), np.array(df[\"Close\"]), timeperiod=14) \n",
        "df[\"mfi\"] = talib.MFI(np.array(df[\"High\"]), np.array(df[\"Low\"]), np.array(df[\"Close\"]), np.array(df[\"Volume\"]), timeperiod=14) \n",
        "df[\"minus_di\"] = talib.MINUS_DI(np.array(df[\"High\"]), np.array(df[\"Low\"]), np.array(df[\"Close\"]), timeperiod=14) \n",
        "df[\"minus_dm\"] = talib.MINUS_DM(np.array(df[\"High\"]), np.array(df[\"Low\"]), timeperiod=14)\n",
        "df[\"plus_di\"] = talib.PLUS_DI(np.array(df[\"High\"]), np.array(df[\"Low\"]), np.array(df[\"Close\"]), timeperiod=14)\n",
        "df[\"plus_dm\"] = talib.PLUS_DM(np.array(df[\"High\"]), np.array(df[\"Low\"]), timeperiod=14)\n",
        "df[\"ppo\"] = talib.PPO(np.array(df[\"Close\"]), fastperiod=10, slowperiod=20)\n",
        "df[\"rsi_14\"] = talib.RSI(np.array(df[\"Close\"]), timeperiod=14)\n",
        "df[\"slowk\"], df[\"slowd\"] = talib.STOCH(np.array(df[\"High\"]), np.array(df[\"Low\"]), np.array(df[\"Close\"]), fastk_period=5, slowk_period=3, slowk_matype=0, slowd_period=3, slowd_matype=0)\n",
        "df[\"macd\"], df[\"macdsignal\"], df[\"macdhist\"] = talib.MACD(np.array(df[\"Close\"]), fastperiod=12, slowperiod=26, signalperiod=9)\n",
        "df[\"cci\"] = talib.CCI(np.array(df[\"High\"]), np.array(df[\"Low\"]), np.array(df[\"Close\"]), timeperiod=14)\n",
        "df[\"mom20\"] = talib.MOM(np.array(df[\"Close\"]), timeperiod=20)\n",
        "df[\"mom10\"] = talib.MOM(np.array(df[\"Close\"]), timeperiod=10)\n",
        "df[\"ma20\"] = talib.SMA(np.array(df[\"Close\"]), timeperiod=20)\n",
        "df[\"ma10\"] = talib.SMA(np.array(df[\"Close\"]), timeperiod=10)\n",
        "df[\"roc\"] = talib.ROC(np.array(df[\"Close\"]), timeperiod=10)\n",
        "df[\"ult\"] = talib.ULTOSC(np.array(df[\"High\"]), np.array(df[\"Low\"]), np.array(df[\"Close\"]), timeperiod1=7, timeperiod2=14, timeperiod3=28)\n",
        "df[\"will\"] = talib.WILLR(np.array(df[\"High\"]), np.array(df[\"Low\"]), np.array(df[\"Close\"]), timeperiod=14)\n",
        "df[\"return_1df\"] = df[\"return_log\"].shift(-1)\n"
      ],
      "execution_count": 0,
      "outputs": []
    },
    {
      "cell_type": "code",
      "metadata": {
        "id": "TBxx5U0sFPQe",
        "colab_type": "code",
        "outputId": "e6cd77b6-b3ec-4070-af08-03fed799f11b",
        "colab": {
          "base_uri": "https://localhost:8080/",
          "height": 235
        }
      },
      "source": [
        "df.head()"
      ],
      "execution_count": 0,
      "outputs": [
        {
          "output_type": "execute_result",
          "data": {
            "text/html": [
              "<div>\n",
              "<style scoped>\n",
              "    .dataframe tbody tr th:only-of-type {\n",
              "        vertical-align: middle;\n",
              "    }\n",
              "\n",
              "    .dataframe tbody tr th {\n",
              "        vertical-align: top;\n",
              "    }\n",
              "\n",
              "    .dataframe thead th {\n",
              "        text-align: right;\n",
              "    }\n",
              "</style>\n",
              "<table border=\"1\" class=\"dataframe\">\n",
              "  <thead>\n",
              "    <tr style=\"text-align: right;\">\n",
              "      <th></th>\n",
              "      <th>High</th>\n",
              "      <th>Low</th>\n",
              "      <th>Open</th>\n",
              "      <th>Close</th>\n",
              "      <th>Volume</th>\n",
              "      <th>mid</th>\n",
              "    </tr>\n",
              "    <tr>\n",
              "      <th>Date</th>\n",
              "      <th></th>\n",
              "      <th></th>\n",
              "      <th></th>\n",
              "      <th></th>\n",
              "      <th></th>\n",
              "      <th></th>\n",
              "    </tr>\n",
              "  </thead>\n",
              "  <tbody>\n",
              "    <tr>\n",
              "      <th>1980-12-12</th>\n",
              "      <td>0.515625</td>\n",
              "      <td>0.513393</td>\n",
              "      <td>0.513393</td>\n",
              "      <td>0.513393</td>\n",
              "      <td>117258400.0</td>\n",
              "      <td>0.514509</td>\n",
              "    </tr>\n",
              "    <tr>\n",
              "      <th>1980-12-15</th>\n",
              "      <td>0.488839</td>\n",
              "      <td>0.486607</td>\n",
              "      <td>0.488839</td>\n",
              "      <td>0.486607</td>\n",
              "      <td>43971200.0</td>\n",
              "      <td>0.487723</td>\n",
              "    </tr>\n",
              "    <tr>\n",
              "      <th>1980-12-16</th>\n",
              "      <td>0.453125</td>\n",
              "      <td>0.450893</td>\n",
              "      <td>0.453125</td>\n",
              "      <td>0.450893</td>\n",
              "      <td>26432000.0</td>\n",
              "      <td>0.452009</td>\n",
              "    </tr>\n",
              "    <tr>\n",
              "      <th>1980-12-17</th>\n",
              "      <td>0.464286</td>\n",
              "      <td>0.462054</td>\n",
              "      <td>0.462054</td>\n",
              "      <td>0.462054</td>\n",
              "      <td>21610400.0</td>\n",
              "      <td>0.463170</td>\n",
              "    </tr>\n",
              "    <tr>\n",
              "      <th>1980-12-18</th>\n",
              "      <td>0.477679</td>\n",
              "      <td>0.475446</td>\n",
              "      <td>0.475446</td>\n",
              "      <td>0.475446</td>\n",
              "      <td>18362400.0</td>\n",
              "      <td>0.476562</td>\n",
              "    </tr>\n",
              "  </tbody>\n",
              "</table>\n",
              "</div>"
            ],
            "text/plain": [
              "                High       Low      Open     Close       Volume       mid\n",
              "Date                                                                     \n",
              "1980-12-12  0.515625  0.513393  0.513393  0.513393  117258400.0  0.514509\n",
              "1980-12-15  0.488839  0.486607  0.488839  0.486607   43971200.0  0.487723\n",
              "1980-12-16  0.453125  0.450893  0.453125  0.450893   26432000.0  0.452009\n",
              "1980-12-17  0.464286  0.462054  0.462054  0.462054   21610400.0  0.463170\n",
              "1980-12-18  0.477679  0.475446  0.475446  0.475446   18362400.0  0.476562"
            ]
          },
          "metadata": {
            "tags": []
          },
          "execution_count": 110
        }
      ]
    },
    {
      "cell_type": "code",
      "metadata": {
        "id": "9u40f7DLEuUB",
        "colab_type": "code",
        "colab": {}
      },
      "source": [
        "df = df.dropna()\n",
        "# Create a copy of data set for denoising\n",
        "df_ = df.copy()\n",
        "df_ = df_.drop([\"return_1df\"], axis=1)\n",
        "\n",
        "\n",
        "# Train valid test split\n",
        "train_df_ = df_.iloc[:9000]\n",
        "test_df_ = df_.iloc[9000:9200]\n",
        "train_df = df.iloc[:9000]\n",
        "test_df = df.iloc[9000:9200]\n",
        "out_of_sample = df.iloc[9200:9500]\n",
        "out_of_sample_ = df_.iloc[9200:9500]\n",
        "\n",
        "\n",
        "# Seperate features and target for training data\n",
        "train_data_X = np.array(train_df_.values)\n",
        "train_data_y = np.array(train_df[\"return_1df\"].values)\n",
        "# Seperate for valid data\n",
        "test_data_X = np.array(test_df_.values)\n",
        "test_data_y = np.array(test_df[\"return_1df\"].values)\n",
        "# Seperate for test data\n",
        "X_out_sample = np.array(out_of_sample_.values)\n",
        "y_out_sample = np.array(out_of_sample[\"return_1df\"].values)\n",
        "\n",
        "\n"
      ],
      "execution_count": 0,
      "outputs": []
    },
    {
      "cell_type": "code",
      "metadata": {
        "id": "n7y4eMYNx1ga",
        "colab_type": "code",
        "outputId": "4b3b6498-8317-4fe2-9c5c-6cc81a778967",
        "colab": {
          "base_uri": "https://localhost:8080/",
          "height": 153
        }
      },
      "source": [
        "out_of_sample_.index"
      ],
      "execution_count": 0,
      "outputs": [
        {
          "output_type": "execute_result",
          "data": {
            "text/plain": [
              "DatetimeIndex(['2017-09-06', '2017-09-07', '2017-09-08', '2017-09-11',\n",
              "               '2017-09-12', '2017-09-13', '2017-09-14', '2017-09-15',\n",
              "               '2017-09-18', '2017-09-19',\n",
              "               ...\n",
              "               '2018-10-30', '2018-10-31', '2018-11-01', '2018-11-02',\n",
              "               '2018-11-05', '2018-11-06', '2018-11-07', '2018-11-08',\n",
              "               '2018-11-09', '2018-11-12'],\n",
              "              dtype='datetime64[ns]', name='Date', length=300, freq=None)"
            ]
          },
          "metadata": {
            "tags": []
          },
          "execution_count": 114
        }
      ]
    },
    {
      "cell_type": "code",
      "metadata": {
        "id": "qnpzlCGFJUh4",
        "colab_type": "code",
        "colab": {}
      },
      "source": [
        "\n",
        "# Windowized normalization\n",
        "smoothing_window_size = 600\n",
        "\n",
        "scaler_min = MinMaxScaler()\n",
        "for di in range(0,9000,smoothing_window_size):\n",
        "    scaler_min.fit(train_data_X[di:di+smoothing_window_size,:])\n",
        "    train_data_X[di:di+smoothing_window_size,:] = scaler_min.transform(train_data_X[di:di+smoothing_window_size,:])\n",
        "    \n",
        "test_data_X = scaler_min.transform(test_data_X)\n",
        "X_out_sample = scaler_min.transform(X_out_sample)"
      ],
      "execution_count": 0,
      "outputs": []
    },
    {
      "cell_type": "code",
      "metadata": {
        "id": "NgQUJmGwFWsd",
        "colab_type": "code",
        "outputId": "ce76df9e-6dcf-41e7-817b-aab47d192d46",
        "colab": {
          "base_uri": "https://localhost:8080/",
          "height": 340
        }
      },
      "source": [
        "df_.head()"
      ],
      "execution_count": 0,
      "outputs": [
        {
          "output_type": "execute_result",
          "data": {
            "text/html": [
              "<div>\n",
              "<style scoped>\n",
              "    .dataframe tbody tr th:only-of-type {\n",
              "        vertical-align: middle;\n",
              "    }\n",
              "\n",
              "    .dataframe tbody tr th {\n",
              "        vertical-align: top;\n",
              "    }\n",
              "\n",
              "    .dataframe thead th {\n",
              "        text-align: right;\n",
              "    }\n",
              "</style>\n",
              "<table border=\"1\" class=\"dataframe\">\n",
              "  <thead>\n",
              "    <tr style=\"text-align: right;\">\n",
              "      <th></th>\n",
              "      <th>High</th>\n",
              "      <th>Low</th>\n",
              "      <th>Open</th>\n",
              "      <th>Close</th>\n",
              "      <th>Volume</th>\n",
              "      <th>mid</th>\n",
              "      <th>return_log</th>\n",
              "      <th>dema</th>\n",
              "      <th>kama</th>\n",
              "      <th>trima</th>\n",
              "      <th>WMA</th>\n",
              "      <th>adx</th>\n",
              "      <th>adxr</th>\n",
              "      <th>apo</th>\n",
              "      <th>aroondown</th>\n",
              "      <th>aroonup</th>\n",
              "      <th>aroonosc</th>\n",
              "      <th>bop</th>\n",
              "      <th>cmo</th>\n",
              "      <th>dx</th>\n",
              "      <th>mfi</th>\n",
              "      <th>minus_di</th>\n",
              "      <th>minus_dm</th>\n",
              "      <th>plus_di</th>\n",
              "      <th>plus_dm</th>\n",
              "      <th>ppo</th>\n",
              "      <th>rsi_14</th>\n",
              "      <th>slowk</th>\n",
              "      <th>slowd</th>\n",
              "      <th>macd</th>\n",
              "      <th>macdsignal</th>\n",
              "      <th>macdhist</th>\n",
              "      <th>cci</th>\n",
              "      <th>mom20</th>\n",
              "      <th>mom10</th>\n",
              "      <th>ma20</th>\n",
              "      <th>ma10</th>\n",
              "      <th>roc</th>\n",
              "      <th>ult</th>\n",
              "      <th>will</th>\n",
              "    </tr>\n",
              "    <tr>\n",
              "      <th>Date</th>\n",
              "      <th></th>\n",
              "      <th></th>\n",
              "      <th></th>\n",
              "      <th></th>\n",
              "      <th></th>\n",
              "      <th></th>\n",
              "      <th></th>\n",
              "      <th></th>\n",
              "      <th></th>\n",
              "      <th></th>\n",
              "      <th></th>\n",
              "      <th></th>\n",
              "      <th></th>\n",
              "      <th></th>\n",
              "      <th></th>\n",
              "      <th></th>\n",
              "      <th></th>\n",
              "      <th></th>\n",
              "      <th></th>\n",
              "      <th></th>\n",
              "      <th></th>\n",
              "      <th></th>\n",
              "      <th></th>\n",
              "      <th></th>\n",
              "      <th></th>\n",
              "      <th></th>\n",
              "      <th></th>\n",
              "      <th></th>\n",
              "      <th></th>\n",
              "      <th></th>\n",
              "      <th></th>\n",
              "      <th></th>\n",
              "      <th></th>\n",
              "      <th></th>\n",
              "      <th></th>\n",
              "      <th></th>\n",
              "      <th></th>\n",
              "      <th></th>\n",
              "      <th></th>\n",
              "      <th></th>\n",
              "    </tr>\n",
              "  </thead>\n",
              "  <tbody>\n",
              "    <tr>\n",
              "      <th>1981-03-13</th>\n",
              "      <td>0.396643</td>\n",
              "      <td>0.394311</td>\n",
              "      <td>0.396103</td>\n",
              "      <td>0.394311</td>\n",
              "      <td>57825600.0</td>\n",
              "      <td>0.398438</td>\n",
              "      <td>-0.011080</td>\n",
              "      <td>0.410682</td>\n",
              "      <td>0.440999</td>\n",
              "      <td>0.460174</td>\n",
              "      <td>0.444931</td>\n",
              "      <td>24.366149</td>\n",
              "      <td>24.292801</td>\n",
              "      <td>-0.015176</td>\n",
              "      <td>85.714286</td>\n",
              "      <td>35.714286</td>\n",
              "      <td>-50.0</td>\n",
              "      <td>-0.768486</td>\n",
              "      <td>-38.334758</td>\n",
              "      <td>39.850975</td>\n",
              "      <td>70.514252</td>\n",
              "      <td>63.133826</td>\n",
              "      <td>0.113761</td>\n",
              "      <td>27.153462</td>\n",
              "      <td>0.048928</td>\n",
              "      <td>-2.013960</td>\n",
              "      <td>30.832621</td>\n",
              "      <td>7.984110</td>\n",
              "      <td>3.646682</td>\n",
              "      <td>-0.027250</td>\n",
              "      <td>-0.023074</td>\n",
              "      <td>-0.004175</td>\n",
              "      <td>-107.374569</td>\n",
              "      <td>-0.071928</td>\n",
              "      <td>-0.074905</td>\n",
              "      <td>0.443977</td>\n",
              "      <td>0.435036</td>\n",
              "      <td>-15.963820</td>\n",
              "      <td>18.357990</td>\n",
              "      <td>-92.386079</td>\n",
              "    </tr>\n",
              "    <tr>\n",
              "      <th>1981-03-16</th>\n",
              "      <td>0.410724</td>\n",
              "      <td>0.406846</td>\n",
              "      <td>0.407246</td>\n",
              "      <td>0.406846</td>\n",
              "      <td>9307200.0</td>\n",
              "      <td>0.415179</td>\n",
              "      <td>0.042017</td>\n",
              "      <td>0.407115</td>\n",
              "      <td>0.439027</td>\n",
              "      <td>0.457383</td>\n",
              "      <td>0.441510</td>\n",
              "      <td>24.620529</td>\n",
              "      <td>24.439035</td>\n",
              "      <td>-0.015187</td>\n",
              "      <td>78.571429</td>\n",
              "      <td>28.571429</td>\n",
              "      <td>-50.0</td>\n",
              "      <td>-0.103196</td>\n",
              "      <td>-27.866453</td>\n",
              "      <td>27.927461</td>\n",
              "      <td>75.130095</td>\n",
              "      <td>57.494163</td>\n",
              "      <td>0.105636</td>\n",
              "      <td>32.391406</td>\n",
              "      <td>0.059514</td>\n",
              "      <td>-3.028580</td>\n",
              "      <td>36.066774</td>\n",
              "      <td>35.782640</td>\n",
              "      <td>15.574229</td>\n",
              "      <td>-0.026896</td>\n",
              "      <td>-0.023839</td>\n",
              "      <td>-0.003057</td>\n",
              "      <td>-68.883935</td>\n",
              "      <td>-0.049253</td>\n",
              "      <td>-0.068928</td>\n",
              "      <td>0.441515</td>\n",
              "      <td>0.428143</td>\n",
              "      <td>-14.487484</td>\n",
              "      <td>26.632867</td>\n",
              "      <td>-78.632733</td>\n",
              "    </tr>\n",
              "    <tr>\n",
              "      <th>1981-03-17</th>\n",
              "      <td>0.430983</td>\n",
              "      <td>0.426572</td>\n",
              "      <td>0.426524</td>\n",
              "      <td>0.426572</td>\n",
              "      <td>10936800.0</td>\n",
              "      <td>0.435268</td>\n",
              "      <td>0.048387</td>\n",
              "      <td>0.406455</td>\n",
              "      <td>0.438715</td>\n",
              "      <td>0.454900</td>\n",
              "      <td>0.439584</td>\n",
              "      <td>23.790460</td>\n",
              "      <td>23.769120</td>\n",
              "      <td>-0.015450</td>\n",
              "      <td>71.428571</td>\n",
              "      <td>21.428571</td>\n",
              "      <td>-50.0</td>\n",
              "      <td>0.010866</td>\n",
              "      <td>-13.332343</td>\n",
              "      <td>12.999568</td>\n",
              "      <td>76.281720</td>\n",
              "      <td>50.368470</td>\n",
              "      <td>0.098090</td>\n",
              "      <td>38.779605</td>\n",
              "      <td>0.075521</td>\n",
              "      <td>-3.680785</td>\n",
              "      <td>43.333828</td>\n",
              "      <td>62.788922</td>\n",
              "      <td>35.518557</td>\n",
              "      <td>-0.024739</td>\n",
              "      <td>-0.024019</td>\n",
              "      <td>-0.000720</td>\n",
              "      <td>-20.640111</td>\n",
              "      <td>-0.035178</td>\n",
              "      <td>-0.045737</td>\n",
              "      <td>0.439756</td>\n",
              "      <td>0.423569</td>\n",
              "      <td>-9.683741</td>\n",
              "      <td>34.270546</td>\n",
              "      <td>-56.989946</td>\n",
              "    </tr>\n",
              "    <tr>\n",
              "      <th>1981-03-18</th>\n",
              "      <td>0.457766</td>\n",
              "      <td>0.453209</td>\n",
              "      <td>0.453061</td>\n",
              "      <td>0.453209</td>\n",
              "      <td>9234400.0</td>\n",
              "      <td>0.462054</td>\n",
              "      <td>0.061538</td>\n",
              "      <td>0.409288</td>\n",
              "      <td>0.438912</td>\n",
              "      <td>0.452689</td>\n",
              "      <td>0.439491</td>\n",
              "      <td>22.312524</td>\n",
              "      <td>22.403950</td>\n",
              "      <td>-0.015784</td>\n",
              "      <td>64.285714</td>\n",
              "      <td>14.285714</td>\n",
              "      <td>-50.0</td>\n",
              "      <td>0.032468</td>\n",
              "      <td>2.743726</td>\n",
              "      <td>3.099356</td>\n",
              "      <td>77.507199</td>\n",
              "      <td>42.958219</td>\n",
              "      <td>0.091084</td>\n",
              "      <td>45.706247</td>\n",
              "      <td>0.096910</td>\n",
              "      <td>-3.712090</td>\n",
              "      <td>51.371863</td>\n",
              "      <td>88.709737</td>\n",
              "      <td>62.427100</td>\n",
              "      <td>-0.020642</td>\n",
              "      <td>-0.023343</td>\n",
              "      <td>0.002701</td>\n",
              "      <td>39.513024</td>\n",
              "      <td>-0.026212</td>\n",
              "      <td>-0.013996</td>\n",
              "      <td>0.438445</td>\n",
              "      <td>0.422170</td>\n",
              "      <td>-2.995760</td>\n",
              "      <td>47.509333</td>\n",
              "      <td>-27.764649</td>\n",
              "    </tr>\n",
              "    <tr>\n",
              "      <th>1981-03-19</th>\n",
              "      <td>0.461069</td>\n",
              "      <td>0.458173</td>\n",
              "      <td>0.459711</td>\n",
              "      <td>0.458173</td>\n",
              "      <td>9452800.0</td>\n",
              "      <td>0.456473</td>\n",
              "      <td>-0.012077</td>\n",
              "      <td>0.412570</td>\n",
              "      <td>0.439279</td>\n",
              "      <td>0.450674</td>\n",
              "      <td>0.439786</td>\n",
              "      <td>21.068704</td>\n",
              "      <td>21.083676</td>\n",
              "      <td>-0.015853</td>\n",
              "      <td>57.142857</td>\n",
              "      <td>7.142857</td>\n",
              "      <td>-50.0</td>\n",
              "      <td>-0.531024</td>\n",
              "      <td>5.435875</td>\n",
              "      <td>4.899036</td>\n",
              "      <td>78.482728</td>\n",
              "      <td>41.308942</td>\n",
              "      <td>0.084578</td>\n",
              "      <td>45.564924</td>\n",
              "      <td>0.093292</td>\n",
              "      <td>-3.771619</td>\n",
              "      <td>52.717937</td>\n",
              "      <td>92.798245</td>\n",
              "      <td>81.432301</td>\n",
              "      <td>-0.016801</td>\n",
              "      <td>-0.022035</td>\n",
              "      <td>0.005234</td>\n",
              "      <td>52.741112</td>\n",
              "      <td>-0.005699</td>\n",
              "      <td>-0.005352</td>\n",
              "      <td>0.438160</td>\n",
              "      <td>0.421635</td>\n",
              "      <td>-1.154680</td>\n",
              "      <td>53.671034</td>\n",
              "      <td>-22.318107</td>\n",
              "    </tr>\n",
              "  </tbody>\n",
              "</table>\n",
              "</div>"
            ],
            "text/plain": [
              "                High       Low      Open  ...        roc        ult       will\n",
              "Date                                      ...                                 \n",
              "1981-03-13  0.396643  0.394311  0.396103  ... -15.963820  18.357990 -92.386079\n",
              "1981-03-16  0.410724  0.406846  0.407246  ... -14.487484  26.632867 -78.632733\n",
              "1981-03-17  0.430983  0.426572  0.426524  ...  -9.683741  34.270546 -56.989946\n",
              "1981-03-18  0.457766  0.453209  0.453061  ...  -2.995760  47.509333 -27.764649\n",
              "1981-03-19  0.461069  0.458173  0.459711  ...  -1.154680  53.671034 -22.318107\n",
              "\n",
              "[5 rows x 40 columns]"
            ]
          },
          "metadata": {
            "tags": []
          },
          "execution_count": 56
        }
      ]
    },
    {
      "cell_type": "code",
      "metadata": {
        "id": "BP7o2-OvJyAY",
        "colab_type": "code",
        "outputId": "e8b18af3-13b8-4a8c-e7bc-61d64f2a1c76",
        "colab": {
          "base_uri": "https://localhost:8080/",
          "height": 340
        }
      },
      "source": [
        "df.head()"
      ],
      "execution_count": 0,
      "outputs": [
        {
          "output_type": "execute_result",
          "data": {
            "text/html": [
              "<div>\n",
              "<style scoped>\n",
              "    .dataframe tbody tr th:only-of-type {\n",
              "        vertical-align: middle;\n",
              "    }\n",
              "\n",
              "    .dataframe tbody tr th {\n",
              "        vertical-align: top;\n",
              "    }\n",
              "\n",
              "    .dataframe thead th {\n",
              "        text-align: right;\n",
              "    }\n",
              "</style>\n",
              "<table border=\"1\" class=\"dataframe\">\n",
              "  <thead>\n",
              "    <tr style=\"text-align: right;\">\n",
              "      <th></th>\n",
              "      <th>High</th>\n",
              "      <th>Low</th>\n",
              "      <th>Open</th>\n",
              "      <th>Close</th>\n",
              "      <th>Volume</th>\n",
              "      <th>mid</th>\n",
              "      <th>return_log</th>\n",
              "      <th>dema</th>\n",
              "      <th>kama</th>\n",
              "      <th>trima</th>\n",
              "      <th>WMA</th>\n",
              "      <th>adx</th>\n",
              "      <th>adxr</th>\n",
              "      <th>apo</th>\n",
              "      <th>aroondown</th>\n",
              "      <th>aroonup</th>\n",
              "      <th>aroonosc</th>\n",
              "      <th>bop</th>\n",
              "      <th>cmo</th>\n",
              "      <th>dx</th>\n",
              "      <th>mfi</th>\n",
              "      <th>minus_di</th>\n",
              "      <th>minus_dm</th>\n",
              "      <th>plus_di</th>\n",
              "      <th>plus_dm</th>\n",
              "      <th>ppo</th>\n",
              "      <th>rsi_14</th>\n",
              "      <th>slowk</th>\n",
              "      <th>slowd</th>\n",
              "      <th>macd</th>\n",
              "      <th>macdsignal</th>\n",
              "      <th>macdhist</th>\n",
              "      <th>cci</th>\n",
              "      <th>mom20</th>\n",
              "      <th>mom10</th>\n",
              "      <th>ma20</th>\n",
              "      <th>ma10</th>\n",
              "      <th>roc</th>\n",
              "      <th>ult</th>\n",
              "      <th>will</th>\n",
              "      <th>return_1df</th>\n",
              "    </tr>\n",
              "    <tr>\n",
              "      <th>Date</th>\n",
              "      <th></th>\n",
              "      <th></th>\n",
              "      <th></th>\n",
              "      <th></th>\n",
              "      <th></th>\n",
              "      <th></th>\n",
              "      <th></th>\n",
              "      <th></th>\n",
              "      <th></th>\n",
              "      <th></th>\n",
              "      <th></th>\n",
              "      <th></th>\n",
              "      <th></th>\n",
              "      <th></th>\n",
              "      <th></th>\n",
              "      <th></th>\n",
              "      <th></th>\n",
              "      <th></th>\n",
              "      <th></th>\n",
              "      <th></th>\n",
              "      <th></th>\n",
              "      <th></th>\n",
              "      <th></th>\n",
              "      <th></th>\n",
              "      <th></th>\n",
              "      <th></th>\n",
              "      <th></th>\n",
              "      <th></th>\n",
              "      <th></th>\n",
              "      <th></th>\n",
              "      <th></th>\n",
              "      <th></th>\n",
              "      <th></th>\n",
              "      <th></th>\n",
              "      <th></th>\n",
              "      <th></th>\n",
              "      <th></th>\n",
              "      <th></th>\n",
              "      <th></th>\n",
              "      <th></th>\n",
              "      <th></th>\n",
              "    </tr>\n",
              "  </thead>\n",
              "  <tbody>\n",
              "    <tr>\n",
              "      <th>1981-03-13</th>\n",
              "      <td>0.396643</td>\n",
              "      <td>0.394311</td>\n",
              "      <td>0.396103</td>\n",
              "      <td>0.394311</td>\n",
              "      <td>57825600.0</td>\n",
              "      <td>0.398438</td>\n",
              "      <td>-0.011080</td>\n",
              "      <td>0.410682</td>\n",
              "      <td>0.440999</td>\n",
              "      <td>0.460174</td>\n",
              "      <td>0.444931</td>\n",
              "      <td>24.366149</td>\n",
              "      <td>24.292801</td>\n",
              "      <td>-0.015176</td>\n",
              "      <td>85.714286</td>\n",
              "      <td>35.714286</td>\n",
              "      <td>-50.0</td>\n",
              "      <td>-0.768486</td>\n",
              "      <td>-38.334758</td>\n",
              "      <td>39.850975</td>\n",
              "      <td>70.514252</td>\n",
              "      <td>63.133826</td>\n",
              "      <td>0.113761</td>\n",
              "      <td>27.153462</td>\n",
              "      <td>0.048928</td>\n",
              "      <td>-2.013960</td>\n",
              "      <td>30.832621</td>\n",
              "      <td>7.984110</td>\n",
              "      <td>3.646682</td>\n",
              "      <td>-0.027250</td>\n",
              "      <td>-0.023074</td>\n",
              "      <td>-0.004175</td>\n",
              "      <td>-107.374569</td>\n",
              "      <td>-0.071928</td>\n",
              "      <td>-0.074905</td>\n",
              "      <td>0.443977</td>\n",
              "      <td>0.435036</td>\n",
              "      <td>-15.963820</td>\n",
              "      <td>18.357990</td>\n",
              "      <td>-92.386079</td>\n",
              "      <td>0.042017</td>\n",
              "    </tr>\n",
              "    <tr>\n",
              "      <th>1981-03-16</th>\n",
              "      <td>0.410724</td>\n",
              "      <td>0.406846</td>\n",
              "      <td>0.407246</td>\n",
              "      <td>0.406846</td>\n",
              "      <td>9307200.0</td>\n",
              "      <td>0.415179</td>\n",
              "      <td>0.042017</td>\n",
              "      <td>0.407115</td>\n",
              "      <td>0.439027</td>\n",
              "      <td>0.457383</td>\n",
              "      <td>0.441510</td>\n",
              "      <td>24.620529</td>\n",
              "      <td>24.439035</td>\n",
              "      <td>-0.015187</td>\n",
              "      <td>78.571429</td>\n",
              "      <td>28.571429</td>\n",
              "      <td>-50.0</td>\n",
              "      <td>-0.103196</td>\n",
              "      <td>-27.866453</td>\n",
              "      <td>27.927461</td>\n",
              "      <td>75.130095</td>\n",
              "      <td>57.494163</td>\n",
              "      <td>0.105636</td>\n",
              "      <td>32.391406</td>\n",
              "      <td>0.059514</td>\n",
              "      <td>-3.028580</td>\n",
              "      <td>36.066774</td>\n",
              "      <td>35.782640</td>\n",
              "      <td>15.574229</td>\n",
              "      <td>-0.026896</td>\n",
              "      <td>-0.023839</td>\n",
              "      <td>-0.003057</td>\n",
              "      <td>-68.883935</td>\n",
              "      <td>-0.049253</td>\n",
              "      <td>-0.068928</td>\n",
              "      <td>0.441515</td>\n",
              "      <td>0.428143</td>\n",
              "      <td>-14.487484</td>\n",
              "      <td>26.632867</td>\n",
              "      <td>-78.632733</td>\n",
              "      <td>0.048387</td>\n",
              "    </tr>\n",
              "    <tr>\n",
              "      <th>1981-03-17</th>\n",
              "      <td>0.430983</td>\n",
              "      <td>0.426572</td>\n",
              "      <td>0.426524</td>\n",
              "      <td>0.426572</td>\n",
              "      <td>10936800.0</td>\n",
              "      <td>0.435268</td>\n",
              "      <td>0.048387</td>\n",
              "      <td>0.406455</td>\n",
              "      <td>0.438715</td>\n",
              "      <td>0.454900</td>\n",
              "      <td>0.439584</td>\n",
              "      <td>23.790460</td>\n",
              "      <td>23.769120</td>\n",
              "      <td>-0.015450</td>\n",
              "      <td>71.428571</td>\n",
              "      <td>21.428571</td>\n",
              "      <td>-50.0</td>\n",
              "      <td>0.010866</td>\n",
              "      <td>-13.332343</td>\n",
              "      <td>12.999568</td>\n",
              "      <td>76.281720</td>\n",
              "      <td>50.368470</td>\n",
              "      <td>0.098090</td>\n",
              "      <td>38.779605</td>\n",
              "      <td>0.075521</td>\n",
              "      <td>-3.680785</td>\n",
              "      <td>43.333828</td>\n",
              "      <td>62.788922</td>\n",
              "      <td>35.518557</td>\n",
              "      <td>-0.024739</td>\n",
              "      <td>-0.024019</td>\n",
              "      <td>-0.000720</td>\n",
              "      <td>-20.640111</td>\n",
              "      <td>-0.035178</td>\n",
              "      <td>-0.045737</td>\n",
              "      <td>0.439756</td>\n",
              "      <td>0.423569</td>\n",
              "      <td>-9.683741</td>\n",
              "      <td>34.270546</td>\n",
              "      <td>-56.989946</td>\n",
              "      <td>0.061538</td>\n",
              "    </tr>\n",
              "    <tr>\n",
              "      <th>1981-03-18</th>\n",
              "      <td>0.457766</td>\n",
              "      <td>0.453209</td>\n",
              "      <td>0.453061</td>\n",
              "      <td>0.453209</td>\n",
              "      <td>9234400.0</td>\n",
              "      <td>0.462054</td>\n",
              "      <td>0.061538</td>\n",
              "      <td>0.409288</td>\n",
              "      <td>0.438912</td>\n",
              "      <td>0.452689</td>\n",
              "      <td>0.439491</td>\n",
              "      <td>22.312524</td>\n",
              "      <td>22.403950</td>\n",
              "      <td>-0.015784</td>\n",
              "      <td>64.285714</td>\n",
              "      <td>14.285714</td>\n",
              "      <td>-50.0</td>\n",
              "      <td>0.032468</td>\n",
              "      <td>2.743726</td>\n",
              "      <td>3.099356</td>\n",
              "      <td>77.507199</td>\n",
              "      <td>42.958219</td>\n",
              "      <td>0.091084</td>\n",
              "      <td>45.706247</td>\n",
              "      <td>0.096910</td>\n",
              "      <td>-3.712090</td>\n",
              "      <td>51.371863</td>\n",
              "      <td>88.709737</td>\n",
              "      <td>62.427100</td>\n",
              "      <td>-0.020642</td>\n",
              "      <td>-0.023343</td>\n",
              "      <td>0.002701</td>\n",
              "      <td>39.513024</td>\n",
              "      <td>-0.026212</td>\n",
              "      <td>-0.013996</td>\n",
              "      <td>0.438445</td>\n",
              "      <td>0.422170</td>\n",
              "      <td>-2.995760</td>\n",
              "      <td>47.509333</td>\n",
              "      <td>-27.764649</td>\n",
              "      <td>-0.012077</td>\n",
              "    </tr>\n",
              "    <tr>\n",
              "      <th>1981-03-19</th>\n",
              "      <td>0.461069</td>\n",
              "      <td>0.458173</td>\n",
              "      <td>0.459711</td>\n",
              "      <td>0.458173</td>\n",
              "      <td>9452800.0</td>\n",
              "      <td>0.456473</td>\n",
              "      <td>-0.012077</td>\n",
              "      <td>0.412570</td>\n",
              "      <td>0.439279</td>\n",
              "      <td>0.450674</td>\n",
              "      <td>0.439786</td>\n",
              "      <td>21.068704</td>\n",
              "      <td>21.083676</td>\n",
              "      <td>-0.015853</td>\n",
              "      <td>57.142857</td>\n",
              "      <td>7.142857</td>\n",
              "      <td>-50.0</td>\n",
              "      <td>-0.531024</td>\n",
              "      <td>5.435875</td>\n",
              "      <td>4.899036</td>\n",
              "      <td>78.482728</td>\n",
              "      <td>41.308942</td>\n",
              "      <td>0.084578</td>\n",
              "      <td>45.564924</td>\n",
              "      <td>0.093292</td>\n",
              "      <td>-3.771619</td>\n",
              "      <td>52.717937</td>\n",
              "      <td>92.798245</td>\n",
              "      <td>81.432301</td>\n",
              "      <td>-0.016801</td>\n",
              "      <td>-0.022035</td>\n",
              "      <td>0.005234</td>\n",
              "      <td>52.741112</td>\n",
              "      <td>-0.005699</td>\n",
              "      <td>-0.005352</td>\n",
              "      <td>0.438160</td>\n",
              "      <td>0.421635</td>\n",
              "      <td>-1.154680</td>\n",
              "      <td>53.671034</td>\n",
              "      <td>-22.318107</td>\n",
              "      <td>0.012225</td>\n",
              "    </tr>\n",
              "  </tbody>\n",
              "</table>\n",
              "</div>"
            ],
            "text/plain": [
              "                High       Low      Open  ...        ult       will  return_1df\n",
              "Date                                      ...                                  \n",
              "1981-03-13  0.396643  0.394311  0.396103  ...  18.357990 -92.386079    0.042017\n",
              "1981-03-16  0.410724  0.406846  0.407246  ...  26.632867 -78.632733    0.048387\n",
              "1981-03-17  0.430983  0.426572  0.426524  ...  34.270546 -56.989946    0.061538\n",
              "1981-03-18  0.457766  0.453209  0.453061  ...  47.509333 -27.764649   -0.012077\n",
              "1981-03-19  0.461069  0.458173  0.459711  ...  53.671034 -22.318107    0.012225\n",
              "\n",
              "[5 rows x 41 columns]"
            ]
          },
          "metadata": {
            "tags": []
          },
          "execution_count": 57
        }
      ]
    },
    {
      "cell_type": "markdown",
      "metadata": {
        "id": "hqOslPPz-aJ4",
        "colab_type": "text"
      },
      "source": [
        "# Model Construction"
      ]
    },
    {
      "cell_type": "code",
      "metadata": {
        "id": "GdLd1OlDEzjq",
        "colab_type": "code",
        "colab": {}
      },
      "source": [
        "X_train = train_data_X\n",
        "y_train = train_data_y\n",
        "X_test = test_data_X\n",
        "y_test = test_data_y\n",
        "X_out_sample = X_out_sample\n",
        "y_out_sample = y_out_sample\n"
      ],
      "execution_count": 0,
      "outputs": []
    },
    {
      "cell_type": "code",
      "metadata": {
        "id": "Zeu_kYD8E2ES",
        "colab_type": "code",
        "colab": {}
      },
      "source": [
        "n_steps = 20\n",
        "n_inputs = X_train.shape[1]\n",
        "num_nodes = 200\n",
        "n_layers = 2\n",
        "n_outputs = 1\n",
        "# Reshape it for LSTM\n",
        "X_test = X_test.reshape((-1, n_steps, n_inputs))\n",
        "y_test = y_test.reshape((-1, n_steps, n_outputs))    \n",
        "X_out_sample = X_out_sample.reshape((-1, n_steps, n_inputs))\n",
        "y_out_sample = y_out_sample.reshape((-1, n_steps, n_outputs))\n",
        "tf.reset_default_graph()\n",
        "tf.set_random_seed(123)\n",
        "np.random.seed(123)\n",
        "# initializers\n",
        "he_init = tf.contrib.layers.variance_scaling_initializer()\n",
        "he_init1 = tf.contrib.layers.variance_scaling_initializer(factor=1.0, mode='FAN_IN', uniform=True)\n",
        "he_init2 = tf.contrib.layers.variance_scaling_initializer(factor=1.0, mode='FAN_AVG', uniform=True)\n",
        "he_init3 = tf.contrib.layers.variance_scaling_initializer(factor=2.0, mode='FAN_AVG', uniform=False)\n",
        "# Activations\n",
        "tanh = tf.nn.tanh\n",
        "elu = tf.nn.elu\n",
        "leaky_relu = tf.nn.leaky_relu\n",
        "# Construction\n",
        "X = tf.placeholder(tf.float32, [None, n_steps, n_inputs])\n",
        "y = tf.placeholder(tf.float32, [None, n_steps, n_outputs])\n",
        "keep_prob = tf.placeholder_with_default(1.0, shape=())\n",
        "\n",
        "\n",
        "\n",
        "cells = [tf.nn.rnn_cell.LSTMCell(num_units=num_nodes, use_peepholes=True, activation=tanh, initializer=he_init2) for layer in range(n_layers)]\n",
        "cells_drop = [tf.nn.rnn_cell.DropoutWrapper(cell, output_keep_prob=keep_prob) for cell in cells]\n",
        "multi_layer_cell = tf.nn.rnn_cell.MultiRNNCell(cells_drop)\n",
        "\n",
        "\n",
        "rnn_outputs, states = tf.nn.dynamic_rnn(multi_layer_cell, X, dtype=tf.float32)\n",
        "stacked_rnn_outputs_ = tf.reshape(rnn_outputs, [-1, num_nodes])\n",
        "stacked_outputs = tf.layers.dense(stacked_rnn_outputs_, n_outputs)\n",
        "outputs = tf.reshape(stacked_outputs, [-1, n_steps, n_outputs])\n",
        "\n",
        "\n",
        "learning_rate = 0.005\n",
        "\n",
        "\n",
        "loss = tf.reduce_mean(tf.square(outputs - y))\n",
        "\n",
        "#Gradient clip for exploding gradient\n",
        "threshold = 0.3\n",
        "optimizer = tf.train.RMSPropOptimizer(learning_rate=learning_rate)\n",
        "grads_and_vars = optimizer.compute_gradients(loss)\n",
        "capped_gvs = [(tf.clip_by_value(grad, -threshold, threshold), var)\n",
        "              for grad, var in grads_and_vars]\n",
        "training_op = optimizer.apply_gradients(capped_gvs) # then apply it, normally minimize funtion do it all\n",
        "\n",
        "\n",
        "\n",
        "init = tf.global_variables_initializer()\n",
        "saver = tf.train.Saver()\n",
        "\n",
        "train_keep_prob = 0.7\n",
        "max_checks_without_progress = 40\n",
        "checks_without_progress = 0\n",
        "best_loss = np.infty\n",
        "n_iterations = 200\n",
        "batch_size = 180\n",
        "mse_train = []\n",
        "mse_test = []\n",
        "mse_out_ = []"
      ],
      "execution_count": 0,
      "outputs": []
    },
    {
      "cell_type": "code",
      "metadata": {
        "id": "bQ6IL_4_Gt5X",
        "colab_type": "code",
        "colab": {}
      },
      "source": [
        "def shuffle_batch(X, y, batch_size):\n",
        "    rnd_idx = np.random.permutation(len(X))\n",
        "    n_batches = len(X) // batch_size\n",
        "    for batch_idx in np.array_split(rnd_idx, n_batches):\n",
        "        X_batch, y_batch = X[batch_idx], y[batch_idx]\n",
        "        yield X_batch, y_batch"
      ],
      "execution_count": 0,
      "outputs": []
    },
    {
      "cell_type": "markdown",
      "metadata": {
        "id": "A18-Lvua-fXO",
        "colab_type": "text"
      },
      "source": [
        "# Model Execution"
      ]
    },
    {
      "cell_type": "code",
      "metadata": {
        "id": "I-A2z4NBE8qC",
        "colab_type": "code",
        "outputId": "81ee715d-ab87-44d5-a3b3-5033a5687898",
        "colab": {
          "base_uri": "https://localhost:8080/",
          "height": 1207
        }
      },
      "source": [
        "with tf.Session() as sess:\n",
        "    init.run()\n",
        "    for iteration in range(n_iterations):\n",
        "        for X_batch, y_batch in shuffle_batch(X_train, y_train, batch_size):\n",
        "            X_batch = X_batch.reshape((-1, n_steps, n_inputs))\n",
        "            y_batch = y_batch.reshape((-1, n_steps, n_outputs))\n",
        "            sess.run(training_op, feed_dict={X: X_batch, y: y_batch, keep_prob: train_keep_prob})\n",
        "        mse = loss.eval(feed_dict={X: X_batch, y: y_batch, keep_prob: train_keep_prob})\n",
        "        mse_ = loss.eval(feed_dict={X: X_test, y: y_test, keep_prob: train_keep_prob})\n",
        "        mse_out = loss.eval(feed_dict={X: X_out_sample, y: y_out_sample})\n",
        "        mse_train.append(mse)\n",
        "        mse_test.append(mse_)\n",
        "        mse_out_.append(mse_out)\n",
        "        print(iteration, \"\\tMSE:\", mse, \" MSE_TEST\", mse_, \" MSE_out\", mse_out)\n",
        "        if mse_ < best_loss: # adding stop loss\n",
        "            save_path = saver.save(sess, \"/content/gdrive/My Drive/Colab Notebooks/my_LSTM_model_grad_trial_5\")\n",
        "            best_loss = mse_\n",
        "            checks_without_progress = 0\n",
        "        else:\n",
        "            checks_without_progress += 1\n",
        "            if checks_without_progress > max_checks_without_progress:\n",
        "                print(\"Early stopping!\")\n",
        "                break      \n"
      ],
      "execution_count": 0,
      "outputs": [
        {
          "output_type": "stream",
          "text": [
            "0 \tMSE: 0.0037251955  MSE_TEST 0.007503976  MSE_out 0.004914066\n",
            "1 \tMSE: 0.000554826  MSE_TEST 0.002387003  MSE_out 0.001083493\n",
            "2 \tMSE: 0.0014920096  MSE_TEST 0.0016761615  MSE_out 0.00083571393\n",
            "3 \tMSE: 0.00081373006  MSE_TEST 0.00071003457  MSE_out 0.0006075612\n",
            "4 \tMSE: 0.0030048788  MSE_TEST 0.003181048  MSE_out 0.00057054136\n",
            "5 \tMSE: 0.0004925594  MSE_TEST 0.00020688158  MSE_out 0.0001560271\n",
            "6 \tMSE: 0.0007227783  MSE_TEST 0.00034420416  MSE_out 0.00027747938\n",
            "7 \tMSE: 0.00077245187  MSE_TEST 0.00019082935  MSE_out 0.00020573729\n",
            "8 \tMSE: 0.0007588352  MSE_TEST 0.0001627012  MSE_out 0.00019195321\n",
            "9 \tMSE: 0.0007264446  MSE_TEST 0.0001322736  MSE_out 0.00017939352\n",
            "10 \tMSE: 0.00054029666  MSE_TEST 0.00010223005  MSE_out 0.0001602185\n",
            "11 \tMSE: 0.00067573116  MSE_TEST 0.00018295344  MSE_out 0.00021737565\n",
            "12 \tMSE: 0.00059950235  MSE_TEST 0.00021417659  MSE_out 0.00023520242\n",
            "13 \tMSE: 0.0004781008  MSE_TEST 9.01303e-05  MSE_out 0.00013721132\n",
            "14 \tMSE: 0.00037250365  MSE_TEST 0.00013680478  MSE_out 0.00017059599\n",
            "15 \tMSE: 0.0003602254  MSE_TEST 0.00014276858  MSE_out 0.00019334038\n",
            "16 \tMSE: 0.0004956325  MSE_TEST 0.00010229322  MSE_out 0.00013973213\n",
            "17 \tMSE: 0.00047313707  MSE_TEST 0.00013042183  MSE_out 0.00016657186\n",
            "18 \tMSE: 0.00079404993  MSE_TEST 0.00016532547  MSE_out 0.00018807234\n",
            "19 \tMSE: 0.00045779746  MSE_TEST 9.84205e-05  MSE_out 0.0001415848\n",
            "20 \tMSE: 0.0004893223  MSE_TEST 0.00010773572  MSE_out 0.00016337831\n",
            "21 \tMSE: 0.00041438107  MSE_TEST 0.000107189386  MSE_out 0.00013140599\n",
            "22 \tMSE: 0.0004919662  MSE_TEST 0.00012407314  MSE_out 0.00017578514\n",
            "23 \tMSE: 0.00055478455  MSE_TEST 0.0001684376  MSE_out 0.00020457218\n",
            "24 \tMSE: 0.00037151045  MSE_TEST 9.9287274e-05  MSE_out 0.00013513083\n",
            "25 \tMSE: 0.0010054134  MSE_TEST 0.00043803334  MSE_out 0.0005452944\n",
            "26 \tMSE: 0.000370385  MSE_TEST 0.00010498075  MSE_out 0.00014319053\n",
            "27 \tMSE: 0.00036218387  MSE_TEST 8.525082e-05  MSE_out 0.00013030402\n",
            "28 \tMSE: 0.00054097414  MSE_TEST 9.203865e-05  MSE_out 0.00013072438\n",
            "29 \tMSE: 0.00052463484  MSE_TEST 0.00014135404  MSE_out 0.00019629061\n",
            "30 \tMSE: 0.00042460446  MSE_TEST 0.0001840662  MSE_out 0.00020909354\n",
            "31 \tMSE: 0.0009628529  MSE_TEST 0.00014622392  MSE_out 0.00020937572\n",
            "32 \tMSE: 0.00054752536  MSE_TEST 9.6644595e-05  MSE_out 0.00013951343\n",
            "33 \tMSE: 0.00037195624  MSE_TEST 0.00011589958  MSE_out 0.000166384\n",
            "34 \tMSE: 0.00045028792  MSE_TEST 0.00017527724  MSE_out 0.00022222822\n",
            "35 \tMSE: 0.0004859888  MSE_TEST 0.00013940678  MSE_out 0.00015969832\n",
            "36 \tMSE: 0.00063164165  MSE_TEST 0.0002766692  MSE_out 0.00041540127\n",
            "37 \tMSE: 0.000501079  MSE_TEST 0.000103813334  MSE_out 0.00013428341\n",
            "38 \tMSE: 0.00045167812  MSE_TEST 9.58009e-05  MSE_out 0.00013350087\n",
            "39 \tMSE: 0.00059095875  MSE_TEST 0.000117938376  MSE_out 0.00017152047\n",
            "40 \tMSE: 0.00044440595  MSE_TEST 0.0001103138  MSE_out 0.0001447308\n",
            "41 \tMSE: 0.00041350123  MSE_TEST 9.22476e-05  MSE_out 0.00013857511\n",
            "42 \tMSE: 0.000566665  MSE_TEST 0.00022796234  MSE_out 0.00027858853\n",
            "43 \tMSE: 0.0010667024  MSE_TEST 0.0001056665  MSE_out 0.00014326151\n",
            "44 \tMSE: 0.00045914372  MSE_TEST 0.00012402693  MSE_out 0.00019679884\n",
            "45 \tMSE: 0.00042435073  MSE_TEST 0.000101870086  MSE_out 0.00013222959\n",
            "46 \tMSE: 0.0004522043  MSE_TEST 0.00015943422  MSE_out 0.00020960862\n",
            "47 \tMSE: 0.00037140457  MSE_TEST 0.00017904546  MSE_out 0.00022019344\n",
            "48 \tMSE: 0.0004902833  MSE_TEST 0.0001178043  MSE_out 0.00017009204\n",
            "49 \tMSE: 0.00050092087  MSE_TEST 9.755368e-05  MSE_out 0.0001404175\n",
            "50 \tMSE: 0.00044032742  MSE_TEST 0.000113802125  MSE_out 0.00013948398\n",
            "51 \tMSE: 0.00062069355  MSE_TEST 0.000101494814  MSE_out 0.00013563187\n",
            "52 \tMSE: 0.0005107137  MSE_TEST 0.00011536327  MSE_out 0.00014663175\n",
            "53 \tMSE: 0.0018062847  MSE_TEST 0.00016914879  MSE_out 0.00021159659\n",
            "54 \tMSE: 0.0004866787  MSE_TEST 0.00012310078  MSE_out 0.00019065262\n",
            "55 \tMSE: 0.00042013027  MSE_TEST 0.00011101018  MSE_out 0.0001640987\n",
            "56 \tMSE: 0.0004472  MSE_TEST 0.00011740721  MSE_out 0.00014681712\n",
            "57 \tMSE: 0.00039922868  MSE_TEST 9.856587e-05  MSE_out 0.00013846425\n",
            "58 \tMSE: 0.000583544  MSE_TEST 9.156959e-05  MSE_out 0.00013282332\n",
            "59 \tMSE: 0.000740377  MSE_TEST 9.253356e-05  MSE_out 0.00013428726\n",
            "60 \tMSE: 0.00055667956  MSE_TEST 9.951478e-05  MSE_out 0.00013652931\n",
            "61 \tMSE: 0.00068161846  MSE_TEST 0.000224391  MSE_out 0.00029538997\n",
            "62 \tMSE: 0.00045929733  MSE_TEST 9.7119904e-05  MSE_out 0.00013541283\n",
            "63 \tMSE: 0.00063140085  MSE_TEST 0.0003205262  MSE_out 0.00045740395\n",
            "64 \tMSE: 0.0003851102  MSE_TEST 0.00014246636  MSE_out 0.00019596683\n",
            "65 \tMSE: 0.0006260098  MSE_TEST 9.988202e-05  MSE_out 0.00014617358\n",
            "66 \tMSE: 0.0005264264  MSE_TEST 0.00016157396  MSE_out 0.00016874107\n",
            "67 \tMSE: 0.00048603636  MSE_TEST 0.00010837258  MSE_out 0.00014442345\n",
            "68 \tMSE: 0.00045864028  MSE_TEST 0.000119578755  MSE_out 0.00015154696\n",
            "Early stopping!\n"
          ],
          "name": "stdout"
        }
      ]
    },
    {
      "cell_type": "markdown",
      "metadata": {
        "id": "UbwyvJup-jW1",
        "colab_type": "text"
      },
      "source": [
        "# Prediction"
      ]
    },
    {
      "cell_type": "code",
      "metadata": {
        "id": "1Rwy5t0iE9aY",
        "colab_type": "code",
        "outputId": "b7ae5648-cec8-44f3-f842-acd64f90f50d",
        "colab": {
          "base_uri": "https://localhost:8080/",
          "height": 54
        }
      },
      "source": [
        "X_out_sample = X_out_sample.reshape((-1, n_steps, n_inputs))\n",
        "y_out_sample = y_out_sample.reshape((-1, n_steps, n_outputs))\n",
        "with tf.Session() as sess:\n",
        "    saver.restore(sess, \"/content/gdrive/My Drive/Colab Notebooks/my_LSTM_model_Final\")\n",
        "    #saver.save(sess, \"/content/gdrive/My Drive/Colab Notebooks/my_LSTM_model_Final\")\n",
        "    X_new = X_test\n",
        "    y_pred = sess.run(outputs, feed_dict={X: X_new})\n",
        "    X_new_ = X_out_sample\n",
        "    y_pred_out = sess.run(outputs, feed_dict={X: X_new_})"
      ],
      "execution_count": 0,
      "outputs": [
        {
          "output_type": "stream",
          "text": [
            "INFO:tensorflow:Restoring parameters from /content/gdrive/My Drive/Colab Notebooks/my_LSTM_model_grad_trial_5\n"
          ],
          "name": "stdout"
        }
      ]
    },
    {
      "cell_type": "markdown",
      "metadata": {
        "id": "6FlqX7XL-oFa",
        "colab_type": "text"
      },
      "source": [
        "# Results"
      ]
    },
    {
      "cell_type": "code",
      "metadata": {
        "id": "BaHZJhTyFA9Z",
        "colab_type": "code",
        "outputId": "91d13258-d43c-41e4-860e-cc1addaea707",
        "colab": {
          "base_uri": "https://localhost:8080/",
          "height": 286
        }
      },
      "source": [
        "plt.plot(y_test.reshape((-1, 1)), label = \"Real Returns\")\n",
        "plt.plot(y_pred.reshape((-1, 1)), label = \"Predicted Returns\")\n",
        "plt.legend()"
      ],
      "execution_count": 0,
      "outputs": [
        {
          "output_type": "execute_result",
          "data": {
            "text/plain": [
              "<matplotlib.legend.Legend at 0x7f532ab505f8>"
            ]
          },
          "metadata": {
            "tags": []
          },
          "execution_count": 153
        },
        {
          "output_type": "display_data",
          "data": {
            "image/png": "[encoded data removed]",
            "text/plain": [
              "<Figure size 432x288 with 1 Axes>"
            ]
          },
          "metadata": {
            "tags": []
          }
        }
      ]
    },
    {
      "cell_type": "code",
      "metadata": {
        "id": "cUING_BqHGx0",
        "colab_type": "code",
        "outputId": "fdc98457-aed4-409d-9f14-b3b0b6a94c26",
        "colab": {
          "base_uri": "https://localhost:8080/",
          "height": 286
        }
      },
      "source": [
        "plt.plot(y_out_sample.reshape((-1, 1)), label = \"Real Returns\")\n",
        "plt.plot(y_pred_out.reshape((-1, 1)), label = \"Predicted Returns\")"
      ],
      "execution_count": 0,
      "outputs": [
        {
          "output_type": "execute_result",
          "data": {
            "text/plain": [
              "[<matplotlib.lines.Line2D at 0x7f52f3476940>]"
            ]
          },
          "metadata": {
            "tags": []
          },
          "execution_count": 123
        },
        {
          "output_type": "display_data",
          "data": {
            "image/png": "[encoded data removed]",
            "text/plain": [
              "<Figure size 432x288 with 1 Axes>"
            ]
          },
          "metadata": {
            "tags": []
          }
        }
      ]
    },
    {
      "cell_type": "code",
      "metadata": {
        "id": "7fW9uh11FDol",
        "colab_type": "code",
        "outputId": "398844c8-9e3d-4f38-aad5-3ecd9b39783c",
        "colab": {
          "base_uri": "https://localhost:8080/",
          "height": 34
        }
      },
      "source": [
        "comparison_change = pd.concat([pd.DataFrame(y_out_sample.reshape((-1, 1))), \n",
        "                        pd.DataFrame(y_pred_out.reshape((-1, 1)))], axis=1)\n",
        "\n",
        "# Calculate the pct change    \n",
        "comparison_change.columns = [\"True\", \"Pred\"]\n",
        "# Tranform regression predictions to classification\n",
        "test = []\n",
        "for a in comparison_change[\"True\"]:\n",
        "    if a >= 0:\n",
        "        test.append(1)\n",
        "    else:\n",
        "        test.append(0)\n",
        "\n",
        "pred = []\n",
        "for a in comparison_change[\"Pred\"]:\n",
        "    if a >= 0:\n",
        "        pred.append(1)\n",
        "    else:\n",
        "        pred.append(0)\n",
        "\n",
        "# Classification Report\n",
        "accuracy_score(test, pred)"
      ],
      "execution_count": 0,
      "outputs": [
        {
          "output_type": "execute_result",
          "data": {
            "text/plain": [
              "0.6866666666666666"
            ]
          },
          "metadata": {
            "tags": []
          },
          "execution_count": 154
        }
      ]
    },
    {
      "cell_type": "code",
      "metadata": {
        "id": "i5l83DNVFH8t",
        "colab_type": "code",
        "outputId": "fca2b20f-8c67-4294-9f9a-d451fda2d1f2",
        "colab": {
          "base_uri": "https://localhost:8080/",
          "height": 170
        }
      },
      "source": [
        "print(classification_report(test, pred))"
      ],
      "execution_count": 0,
      "outputs": [
        {
          "output_type": "stream",
          "text": [
            "              precision    recall  f1-score   support\n",
            "\n",
            "           0       0.65      0.62      0.64       133\n",
            "           1       0.71      0.74      0.72       167\n",
            "\n",
            "    accuracy                           0.69       300\n",
            "   macro avg       0.68      0.68      0.68       300\n",
            "weighted avg       0.69      0.69      0.69       300\n",
            "\n"
          ],
          "name": "stdout"
        }
      ]
    },
    {
      "cell_type": "code",
      "metadata": {
        "id": "RVdFfTGaYc8E",
        "colab_type": "code",
        "outputId": "9737c296-e7a3-4719-ae2b-c2e07bce6464",
        "colab": {
          "base_uri": "https://localhost:8080/",
          "height": 658
        }
      },
      "source": [
        "plt.figure(figsize=(20,10))\n",
        "plt.title(\"Error Values\")\n",
        "plt.xlabel('Epochs')\n",
        "plt.ylabel('Mean Squared Error')\n",
        "plt.plot(mse_train, label=\"Train MSE\")\n",
        "plt.plot(mse_test, label=\"Validation MSE\")\n",
        "plt.plot(mse_out_, label=\"Test MSE\")\n",
        "plt.legend()\n"
      ],
      "execution_count": 0,
      "outputs": [
        {
          "output_type": "execute_result",
          "data": {
            "text/plain": [
              "<matplotlib.legend.Legend at 0x7f532007cda0>"
            ]
          },
          "metadata": {
            "tags": []
          },
          "execution_count": 18
        },
        {
          "output_type": "display_data",
          "data": {
            "image/png": "[encoded data removed]",
            "text/plain": [
              "<Figure size 1440x720 with 1 Axes>"
            ]
          },
          "metadata": {
            "tags": []
          }
        }
      ]
    },
    {
      "cell_type": "markdown",
      "metadata": {
        "id": "iefyPzqe-vRh",
        "colab_type": "text"
      },
      "source": [
        "# Backtest"
      ]
    },
    {
      "cell_type": "code",
      "metadata": {
        "id": "37xNq96uzsL6",
        "colab_type": "code",
        "colab": {}
      },
      "source": [
        "df_backtest[\"signal\"] = Suggestion\n",
        "df_backtest[\"mid_return\"] = df_backtest[\"mid\"].pct_change(1)\n",
        "\n"
      ],
      "execution_count": 0,
      "outputs": []
    },
    {
      "cell_type": "code",
      "metadata": {
        "id": "3cRVvzhg59Mx",
        "colab_type": "code",
        "colab": {}
      },
      "source": [
        "df_backtest[\"pred_return\"] = y_pred_out.reshape(-1, 1)\n",
        "df_backtest[\"real_return\"] = y_out_sample.reshape(-1, 1)\n"
      ],
      "execution_count": 0,
      "outputs": []
    },
    {
      "cell_type": "code",
      "metadata": {
        "id": "cb5nSrRE8Ro9",
        "colab_type": "code",
        "outputId": "47169d90-9a9e-4591-c500-bbc03b2e3d98",
        "colab": {
          "base_uri": "https://localhost:8080/",
          "height": 340
        }
      },
      "source": [
        "df_backtest.head()"
      ],
      "execution_count": 0,
      "outputs": [
        {
          "output_type": "execute_result",
          "data": {
            "text/html": [
              "<div>\n",
              "<style scoped>\n",
              "    .dataframe tbody tr th:only-of-type {\n",
              "        vertical-align: middle;\n",
              "    }\n",
              "\n",
              "    .dataframe tbody tr th {\n",
              "        vertical-align: top;\n",
              "    }\n",
              "\n",
              "    .dataframe thead th {\n",
              "        text-align: right;\n",
              "    }\n",
              "</style>\n",
              "<table border=\"1\" class=\"dataframe\">\n",
              "  <thead>\n",
              "    <tr style=\"text-align: right;\">\n",
              "      <th></th>\n",
              "      <th>High</th>\n",
              "      <th>Low</th>\n",
              "      <th>Open</th>\n",
              "      <th>Close</th>\n",
              "      <th>Volume</th>\n",
              "      <th>mid</th>\n",
              "      <th>close_return</th>\n",
              "      <th>close_return_1df</th>\n",
              "      <th>pred_return</th>\n",
              "      <th>signal</th>\n",
              "      <th>mid_return</th>\n",
              "      <th>real_return</th>\n",
              "    </tr>\n",
              "    <tr>\n",
              "      <th>Date</th>\n",
              "      <th></th>\n",
              "      <th></th>\n",
              "      <th></th>\n",
              "      <th></th>\n",
              "      <th></th>\n",
              "      <th></th>\n",
              "      <th></th>\n",
              "      <th></th>\n",
              "      <th></th>\n",
              "      <th></th>\n",
              "      <th></th>\n",
              "      <th></th>\n",
              "    </tr>\n",
              "  </thead>\n",
              "  <tbody>\n",
              "    <tr>\n",
              "      <th>2017-09-06</th>\n",
              "      <td>162.990005</td>\n",
              "      <td>160.520004</td>\n",
              "      <td>162.710007</td>\n",
              "      <td>161.910004</td>\n",
              "      <td>21651700.0</td>\n",
              "      <td>161.755005</td>\n",
              "      <td>-0.001049</td>\n",
              "      <td>-0.004015</td>\n",
              "      <td>-0.002795</td>\n",
              "      <td>-1</td>\n",
              "      <td>NaN</td>\n",
              "      <td>-0.002813</td>\n",
              "    </tr>\n",
              "    <tr>\n",
              "      <th>2017-09-07</th>\n",
              "      <td>162.240005</td>\n",
              "      <td>160.360001</td>\n",
              "      <td>162.089996</td>\n",
              "      <td>161.259995</td>\n",
              "      <td>21928500.0</td>\n",
              "      <td>161.300003</td>\n",
              "      <td>-0.004015</td>\n",
              "      <td>-0.016309</td>\n",
              "      <td>-0.000460</td>\n",
              "      <td>-1</td>\n",
              "      <td>-0.002813</td>\n",
              "      <td>-0.009051</td>\n",
              "    </tr>\n",
              "    <tr>\n",
              "      <th>2017-09-08</th>\n",
              "      <td>161.149994</td>\n",
              "      <td>158.529999</td>\n",
              "      <td>160.860001</td>\n",
              "      <td>158.630005</td>\n",
              "      <td>28611500.0</td>\n",
              "      <td>159.839996</td>\n",
              "      <td>-0.016309</td>\n",
              "      <td>0.018092</td>\n",
              "      <td>-0.004801</td>\n",
              "      <td>1</td>\n",
              "      <td>-0.009051</td>\n",
              "      <td>0.007070</td>\n",
              "    </tr>\n",
              "    <tr>\n",
              "      <th>2017-09-11</th>\n",
              "      <td>162.050003</td>\n",
              "      <td>159.889999</td>\n",
              "      <td>160.500000</td>\n",
              "      <td>161.500000</td>\n",
              "      <td>31580800.0</td>\n",
              "      <td>160.970001</td>\n",
              "      <td>0.018092</td>\n",
              "      <td>-0.003963</td>\n",
              "      <td>0.007317</td>\n",
              "      <td>1</td>\n",
              "      <td>0.007070</td>\n",
              "      <td>0.002454</td>\n",
              "    </tr>\n",
              "    <tr>\n",
              "      <th>2017-09-12</th>\n",
              "      <td>163.960007</td>\n",
              "      <td>158.770004</td>\n",
              "      <td>162.610001</td>\n",
              "      <td>160.860001</td>\n",
              "      <td>71714000.0</td>\n",
              "      <td>161.365005</td>\n",
              "      <td>-0.003963</td>\n",
              "      <td>-0.007522</td>\n",
              "      <td>-0.001184</td>\n",
              "      <td>1</td>\n",
              "      <td>0.002454</td>\n",
              "      <td>-0.015059</td>\n",
              "    </tr>\n",
              "  </tbody>\n",
              "</table>\n",
              "</div>"
            ],
            "text/plain": [
              "                  High         Low        Open  ...  signal  mid_return  real_return\n",
              "Date                                            ...                                 \n",
              "2017-09-06  162.990005  160.520004  162.710007  ...      -1         NaN    -0.002813\n",
              "2017-09-07  162.240005  160.360001  162.089996  ...      -1   -0.002813    -0.009051\n",
              "2017-09-08  161.149994  158.529999  160.860001  ...       1   -0.009051     0.007070\n",
              "2017-09-11  162.050003  159.889999  160.500000  ...       1    0.007070     0.002454\n",
              "2017-09-12  163.960007  158.770004  162.610001  ...       1    0.002454    -0.015059\n",
              "\n",
              "[5 rows x 12 columns]"
            ]
          },
          "metadata": {
            "tags": []
          },
          "execution_count": 144
        }
      ]
    },
    {
      "cell_type": "code",
      "metadata": {
        "id": "Kb87cn0lpXFA",
        "colab_type": "code",
        "colab": {}
      },
      "source": [
        "raw_prediction = y_pred_out.reshape(-1, 1)\n",
        "Suggestion = []\n",
        "percentChange = []\n",
        "\n",
        "\n",
        "for d in range(len(raw_prediction)):\n",
        "    percentChange.append(float((raw_prediction[d])))\n",
        "\n",
        "\n",
        "    \n",
        "for n in range(len(percentChange)):\n",
        "    if (df_backtest[\"mid\"][n]*(1+percentChange[n]))>df_backtest[\"Close\"][n]:\n",
        "        Suggestion.append(1) # buy if next day prediction higher\n",
        "    elif (df_backtest[\"mid\"][n]*(1+percentChange[n]))<df_backtest[\"Close\"][n]:\n",
        "        Suggestion.append(-1) # sell if next day prediction lower\n",
        "    else:\n",
        "        Suggestion.append(0) # hold otherwise"
      ],
      "execution_count": 0,
      "outputs": []
    },
    {
      "cell_type": "code",
      "metadata": {
        "id": "zB-MHNiK9nxf",
        "colab_type": "code",
        "colab": {}
      },
      "source": [
        "PurchaseHistory=[]\n",
        "BuyPoints =  [[], []]\n",
        "SellPoints = [[], []]\n",
        "bought = False\n",
        "for i in range(0, len(df_backtest)-1):\n",
        "    if Suggestion[i] == 1 and not bought:\n",
        "        PurchaseHistory.append([\"Buy: \", df_backtest[\"Close\"][i], i])\n",
        "        BuyPoints[0].append(df_backtest[\"Close\"][i])\n",
        "        BuyPoints[1].append(i)\n",
        "        bought = True\n",
        "    if Suggestion[i] == -1 and bought:\n",
        "        PurchaseHistory.append([\"Sell:\", df_backtest[\"Close\"][i], i])\n",
        "        SellPoints[0].append(df_backtest[\"Close\"][i])\n",
        "        SellPoints[1].append(i)        \n",
        "        bought = False\n",
        "if len(PurchaseHistory)%2 != 0:\n",
        "    PurchaseHistory.pop()\n",
        "    BuyPoints[0].pop()\n",
        "    BuyPoints[1].pop() "
      ],
      "execution_count": 0,
      "outputs": []
    },
    {
      "cell_type": "code",
      "metadata": {
        "id": "3Le9gHnzGsIU",
        "colab_type": "code",
        "outputId": "4716f0d3-76a2-48e9-cbdd-3e9b5f7b3c1f",
        "colab": {
          "base_uri": "https://localhost:8080/",
          "height": 2023
        }
      },
      "source": [
        "PurchaseHistory"
      ],
      "execution_count": 0,
      "outputs": [
        {
          "output_type": "execute_result",
          "data": {
            "text/plain": [
              "[['Buy: ', 158.6300048828125, 2],\n",
              " ['Sell:', 159.64999389648438, 5],\n",
              " ['Buy: ', 159.8800048828125, 7],\n",
              " ['Sell:', 158.6699981689453, 8],\n",
              " ['Buy: ', 150.5500030517578, 13],\n",
              " ['Sell:', 153.27999877929688, 16],\n",
              " ['Buy: ', 154.47999572753906, 19],\n",
              " ['Sell:', 153.47999572753906, 20],\n",
              " ['Buy: ', 155.38999938964844, 21],\n",
              " ['Sell:', 159.75999450683594, 30],\n",
              " ['Buy: ', 156.25, 32],\n",
              " ['Sell:', 156.41000366210938, 35],\n",
              " ['Buy: ', 157.41000366210938, 36],\n",
              " ['Sell:', 163.0500030517578, 37],\n",
              " ['Buy: ', 166.88999938964844, 40],\n",
              " ['Sell:', 168.11000061035156, 41],\n",
              " ['Buy: ', 174.25, 43],\n",
              " ['Sell:', 175.8800048828125, 46],\n",
              " ['Buy: ', 173.97000122070312, 48],\n",
              " ['Sell:', 171.33999633789062, 49],\n",
              " ['Buy: ', 169.0800018310547, 50],\n",
              " ['Sell:', 174.08999633789062, 57],\n",
              " ['Buy: ', 169.8000030517578, 62],\n",
              " ['Sell:', 169.3699951171875, 66],\n",
              " ['Buy: ', 172.6699981689453, 67],\n",
              " ['Sell:', 173.97000122070312, 71],\n",
              " ['Buy: ', 176.4199981689453, 72],\n",
              " ['Sell:', 174.35000610351562, 74],\n",
              " ['Buy: ', 175.00999450683594, 75],\n",
              " ['Sell:', 170.57000732421875, 77],\n",
              " ['Buy: ', 170.60000610351562, 78],\n",
              " ['Sell:', 169.22999572753906, 80],\n",
              " ['Buy: ', 172.25999450683594, 81],\n",
              " ['Sell:', 174.3300018310547, 86],\n",
              " ['Buy: ', 174.2899932861328, 87],\n",
              " ['Sell:', 179.10000610351562, 91],\n",
              " ['Buy: ', 179.25999450683594, 92],\n",
              " ['Sell:', 171.50999450683594, 98],\n",
              " ['Buy: ', 167.9600067138672, 99],\n",
              " ['Sell:', 163.02999877929688, 105],\n",
              " ['Buy: ', 159.5399932861328, 106],\n",
              " ['Sell:', 156.41000366210938, 108],\n",
              " ['Buy: ', 172.42999267578125, 113],\n",
              " ['Sell:', 178.97000122070312, 118],\n",
              " ['Buy: ', 178.38999938964844, 119],\n",
              " ['Sell:', 176.2100067138672, 122],\n",
              " ['Buy: ', 176.82000732421875, 123],\n",
              " ['Sell:', 179.97999572753906, 127],\n",
              " ['Buy: ', 181.72000122070312, 128],\n",
              " ['Sell:', 179.97000122070312, 129],\n",
              " ['Buy: ', 178.64999389648438, 131],\n",
              " ['Sell:', 172.77000427246094, 138],\n",
              " ['Buy: ', 168.33999633789062, 139],\n",
              " ['Sell:', 168.38999938964844, 143],\n",
              " ['Buy: ', 172.8000030517578, 145],\n",
              " ['Sell:', 173.25, 148],\n",
              " ['Buy: ', 172.44000244140625, 149],\n",
              " ['Sell:', 177.83999633789062, 154],\n",
              " ['Buy: ', 172.8000030517578, 155],\n",
              " ['Sell:', 165.24000549316406, 157],\n",
              " ['Buy: ', 162.94000244140625, 158],\n",
              " ['Sell:', 162.32000732421875, 161],\n",
              " ['Buy: ', 165.25999450683594, 162],\n",
              " ['Sell:', 169.10000610351562, 163],\n",
              " ['Buy: ', 185.16000366210938, 167],\n",
              " ['Sell:', 186.0500030517578, 168],\n",
              " ['Buy: ', 188.17999267578125, 174],\n",
              " ['Sell:', 188.14999389648438, 180],\n",
              " ['Buy: ', 188.5800018310547, 181],\n",
              " ['Sell:', 187.5, 183],\n",
              " ['Buy: ', 186.8699951171875, 184],\n",
              " ['Sell:', 193.97999572753906, 188],\n",
              " ['Buy: ', 191.22999572753906, 191],\n",
              " ['Sell:', 190.6999969482422, 193],\n",
              " ['Buy: ', 188.83999633789062, 195],\n",
              " ['Sell:', 185.69000244140625, 197],\n",
              " ['Buy: ', 186.5, 198],\n",
              " ['Sell:', 184.9199981689453, 200],\n",
              " ['Buy: ', 182.1699981689453, 201],\n",
              " ['Sell:', 185.11000061035156, 205],\n",
              " ['Buy: ', 183.9199981689453, 207],\n",
              " ['Sell:', 190.39999389648438, 217],\n",
              " ['Buy: ', 191.8800048828125, 218],\n",
              " ['Sell:', 191.44000244140625, 219],\n",
              " ['Buy: ', 191.61000061035156, 220],\n",
              " ['Sell:', 207.38999938964844, 228],\n",
              " ['Buy: ', 207.25, 232],\n",
              " ['Sell:', 209.75, 236],\n",
              " ['Buy: ', 210.24000549316406, 237],\n",
              " ['Sell:', 217.5800018310547, 239],\n",
              " ['Buy: ', 215.4600067138672, 240],\n",
              " ['Sell:', 215.0399932861328, 241],\n",
              " ['Buy: ', 215.0500030517578, 242],\n",
              " ['Sell:', 222.97999572753906, 247],\n",
              " ['Buy: ', 225.02999877929688, 248],\n",
              " ['Sell:', 228.36000061035156, 250],\n",
              " ['Buy: ', 223.10000610351562, 252],\n",
              " ['Sell:', 223.85000610351562, 255],\n",
              " ['Buy: ', 221.07000732421875, 256],\n",
              " ['Sell:', 223.83999633789062, 258],\n",
              " ['Buy: ', 217.8800048828125, 259],\n",
              " ['Sell:', 218.3699951171875, 261],\n",
              " ['Buy: ', 220.02999877929688, 262],\n",
              " ['Sell:', 227.25999450683594, 269],\n",
              " ['Buy: ', 229.27999877929688, 270],\n",
              " ['Sell:', 223.77000427246094, 274],\n",
              " ['Buy: ', 216.36000061035156, 276],\n",
              " ['Sell:', 222.11000061035156, 278],\n",
              " ['Buy: ', 217.36000061035156, 279],\n",
              " ['Sell:', 222.14999389648438, 280],\n",
              " ['Buy: ', 216.02000427246094, 282],\n",
              " ['Sell:', 222.72999572753906, 285],\n",
              " ['Buy: ', 215.08999633789062, 286],\n",
              " ['Sell:', 222.22000122070312, 292],\n",
              " ['Buy: ', 207.47999572753906, 293],\n",
              " ['Sell:', 201.58999633789062, 294],\n",
              " ['Buy: ', 203.77000427246094, 295],\n",
              " ['Sell:', 209.9499969482422, 296]]"
            ]
          },
          "metadata": {
            "tags": []
          },
          "execution_count": 147
        }
      ]
    },
    {
      "cell_type": "code",
      "metadata": {
        "id": "g4CTpj2ohSAr",
        "colab_type": "code",
        "outputId": "882c405a-13c3-41c5-d86c-ed2d6fbbc3a1",
        "colab": {
          "base_uri": "https://localhost:8080/",
          "height": 34
        }
      },
      "source": [
        "Profit = 0\n",
        "for purchase in range(1, len(PurchaseHistory)+1, 2):\n",
        "    MoneyMade = float(PurchaseHistory[purchase][1] - float(PurchaseHistory[purchase-1][1]))\n",
        "    Profit += MoneyMade\n",
        "\n",
        "print('$'+ str(round(Profit, 2)))"
      ],
      "execution_count": 0,
      "outputs": [
        {
          "output_type": "stream",
          "text": [
            "$79.92\n"
          ],
          "name": "stdout"
        }
      ]
    },
    {
      "cell_type": "code",
      "metadata": {
        "id": "kVqW7YcGugIP",
        "colab_type": "code",
        "outputId": "ed8acd7d-84e4-4555-d17f-b29613dd581d",
        "colab": {
          "base_uri": "https://localhost:8080/",
          "height": 286
        }
      },
      "source": [
        "Profit_cum = [0]\n",
        "for purchase in range(1, len(PurchaseHistory)+1, 2):\n",
        "    MoneyMade = float(PurchaseHistory[purchase][1] - float(PurchaseHistory[purchase-1][1]))\n",
        "    Profit_cum.append(MoneyMade)\n",
        "\n",
        "plt.plot(np.array(Profit_cum).cumsum())\n",
        "df_backtest[\"Close\"].plot"
      ],
      "execution_count": 0,
      "outputs": [
        {
          "output_type": "execute_result",
          "data": {
            "text/plain": [
              "<pandas.plotting._core.SeriesPlotMethods object at 0x7f530e58fc50>"
            ]
          },
          "metadata": {
            "tags": []
          },
          "execution_count": 146
        },
        {
          "output_type": "display_data",
          "data": {
            "image/png": "[encoded data removed]",
            "text/plain": [
              "<Figure size 432x288 with 1 Axes>"
            ]
          },
          "metadata": {
            "tags": []
          }
        }
      ]
    },
    {
      "cell_type": "code",
      "metadata": {
        "id": "TBCiXc8c_WFr",
        "colab_type": "code",
        "outputId": "b694353c-8651-4efb-f2e7-b864f8beb4b6",
        "colab": {
          "base_uri": "https://localhost:8080/",
          "height": 34
        }
      },
      "source": [
        "# Total ROI\n",
        "MinimumRequiredCapital = max(BuyPoints[0])\n",
        "ROI = Profit / MinimumRequiredCapital * 100\n",
        "print(\"Return on Investment:\", round(float(ROI), 2),\"%\")"
      ],
      "execution_count": 0,
      "outputs": [
        {
          "output_type": "stream",
          "text": [
            "Return on Investment: 34.86 %\n"
          ],
          "name": "stdout"
        }
      ]
    },
    {
      "cell_type": "code",
      "metadata": {
        "id": "fjeD3Hjr_haI",
        "colab_type": "code",
        "colab": {}
      },
      "source": [
        "y_out_sample = y_out_sample.reshape(-1, 1)\n",
        "y_pred_out = y_pred_out.reshape(-1, 1)"
      ],
      "execution_count": 0,
      "outputs": []
    },
    {
      "cell_type": "code",
      "metadata": {
        "id": "fKkJ6N9tk6cz",
        "colab_type": "code",
        "outputId": "c72b0454-5fa9-4353-e545-ea067296cfc2",
        "colab": {
          "base_uri": "https://localhost:8080/",
          "height": 641
        }
      },
      "source": [
        "plt.figure(figsize=(20,10))\n",
        "plt.plot(df_backtest[\"Close\"].values, color =  'purple', label = \"Actual Price\")\n",
        "#plt.plot(y_pred_out.reshape(-1, 1), color = 'blue', label = \"Predicted Price\")\n",
        "plt.plot(BuyPoints[1], BuyPoints[0], \"go\")\n",
        "plt.plot(SellPoints[1], SellPoints[0], \"ro\")\n",
        "\n",
        "plt.title(\"Apple September 2017 - December 2018 Buy and Sell Points\")\n",
        "plt.xlabel('Time')\n",
        "plt.ylabel('Apple Close Stock Price')\n",
        "plt.legend()\n",
        "plt.show()"
      ],
      "execution_count": 0,
      "outputs": [
        {
          "output_type": "display_data",
          "data": {
            "image/png": "[encoded data removed]",
            "text/plain": [
              "<Figure size 1440x720 with 1 Axes>"
            ]
          },
          "metadata": {
            "tags": []
          }
        }
      ]
    },
    {
      "cell_type": "code",
      "metadata": {
        "id": "WeLeyUu3DZIV",
        "colab_type": "code",
        "outputId": "7b7307e1-6c62-405f-bf0d-303f63353752",
        "colab": {
          "base_uri": "https://localhost:8080/",
          "height": 34
        }
      },
      "source": [
        "# Benchmark, it is just buying and holding the stock\n",
        "Benchmark = (df_backtest[\"Close\"][-1] - df_backtest[\"Close\"][0])/df_backtest[\"Close\"][0] * 100\n",
        "print(\"Benchmark:\", round(float(Benchmark), 2),\"%\")"
      ],
      "execution_count": 0,
      "outputs": [
        {
          "output_type": "stream",
          "text": [
            "Benchmark: 19.92 %\n"
          ],
          "name": "stdout"
        }
      ]
    },
    {
      "cell_type": "markdown",
      "metadata": {
        "id": "mVGMnj8nAOma",
        "colab_type": "text"
      },
      "source": [
        "# Test of the model on global data, Specifically I chosed to use small cap index, due to high volatility of the index we can test the generalization ability of the model better."
      ]
    },
    {
      "cell_type": "code",
      "metadata": {
        "id": "clvVju7OOUAX",
        "colab_type": "code",
        "colab": {}
      },
      "source": [
        "\n",
        "start_date = '1970-12-31'\n",
        "end_date = '2019-04-12'\n",
        "df = web.DataReader('IJR', 'yahoo', start_date, end_date)\n",
        "df = df_scap.drop([\"Adj Close\"], axis=1)\n",
        "df[\"mid\"] = (df[\"High\"]+df[\"Low\"])/2\n",
        "df[\"return_log\"] = df[\"mid\"].pct_change(1)\n",
        "# Smooth data with Double exponential moving average\n",
        "df[\"Close\"] = talib.DEMA(np.array(df[\"Close\"]), timeperiod=3)\n",
        "df[\"High\"] = talib.DEMA(np.array(df[\"High\"]), timeperiod=3)\n",
        "df[\"Low\"] = talib.DEMA(np.array(df[\"Low\"]), timeperiod=3)\n",
        "df[\"Open\"] = talib.DEMA(np.array(df[\"Open\"]), timeperiod=3)\n",
        "# Add tech indicators\n",
        "df[\"dema\"] = talib.DEMA(np.array(df[\"Close\"]), timeperiod=30) #Double Exponential Moving Average\n",
        "df[\"kama\"] = talib.KAMA(np.array(df[\"Close\"]), timeperiod=30) # Kaufman Adaptive Moving Average\n",
        "df[\"trima\"] = talib.TRIMA(np.array(df[\"Close\"]), timeperiod=30) # Triple exponential\n",
        "df[\"WMA\"] = talib.WMA(np.array(df[\"Close\"]), timeperiod=30) # Weighted moving average\n",
        "df[\"adx\"] = talib.ADX(np.array(df[\"High\"]), np.array(df[\"Low\"]), np.array(df[\"Close\"]), timeperiod=14) \n",
        "df[\"adxr\"] = talib.ADXR(np.array(df[\"High\"]), np.array(df[\"Low\"]), np.array(df[\"Close\"]), timeperiod=14) \n",
        "df[\"apo\"] = talib.APO(np.array(df[\"Close\"]), fastperiod=12, slowperiod=26)\n",
        "df[\"aroondown\"], df[\"aroonup\"] = talib.AROON(np.array(df[\"High\"]), np.array(df[\"Low\"]), timeperiod=14) \n",
        "df[\"aroonosc\"] = talib.AROONOSC(np.array(df[\"High\"]), np.array(df[\"Low\"]), timeperiod=14)\n",
        "df[\"bop\"] = talib.BOP(np.array(df[\"Open\"]), np.array(df[\"High\"]), np.array(df[\"Low\"]), np.array(df[\"Close\"])) \n",
        "df[\"cmo\"] = talib.CMO(np.array(df[\"Close\"]), timeperiod=14) \n",
        "df[\"dx\"] = talib.DX(np.array(df[\"High\"]), np.array(df[\"Low\"]), np.array(df[\"Close\"]), timeperiod=14) \n",
        "df[\"mfi\"] = talib.MFI(np.array(df[\"High\"]), np.array(df[\"Low\"]), np.array(df[\"Close\"]), np.array(df[\"Volume\"]), timeperiod=14) \n",
        "df[\"minus_di\"] = talib.MINUS_DI(np.array(df[\"High\"]), np.array(df[\"Low\"]), np.array(df[\"Close\"]), timeperiod=14) \n",
        "df[\"minus_dm\"] = talib.MINUS_DM(np.array(df[\"High\"]), np.array(df[\"Low\"]), timeperiod=14)\n",
        "df[\"plus_di\"] = talib.PLUS_DI(np.array(df[\"High\"]), np.array(df[\"Low\"]), np.array(df[\"Close\"]), timeperiod=14)\n",
        "df[\"plus_dm\"] = talib.PLUS_DM(np.array(df[\"High\"]), np.array(df[\"Low\"]), timeperiod=14)\n",
        "df[\"ppo\"] = talib.PPO(np.array(df[\"Close\"]), fastperiod=10, slowperiod=20)\n",
        "df[\"rsi\"] = talib.RSI(np.array(df[\"Close\"]), timeperiod=14)\n",
        "df[\"slowk\"], df[\"slowd\"] = talib.STOCH(np.array(df[\"High\"]), np.array(df[\"Low\"]), np.array(df[\"Close\"]), fastk_period=5, slowk_period=3, slowk_matype=0, slowd_period=3, slowd_matype=0)\n",
        "df[\"macd\"], df[\"macdsignal\"], df[\"macdhist\"] = talib.MACD(np.array(df[\"Close\"]), fastperiod=12, slowperiod=26, signalperiod=9)\n",
        "df[\"cci\"] = talib.CCI(np.array(df[\"High\"]), np.array(df[\"Low\"]), np.array(df[\"Close\"]), timeperiod=14)\n",
        "df[\"mom20\"] = talib.MOM(np.array(df[\"Close\"]), timeperiod=20)\n",
        "df[\"mom10\"] = talib.MOM(np.array(df[\"Close\"]), timeperiod=10)\n",
        "df[\"ma20\"] = talib.SMA(np.array(df[\"Close\"]), timeperiod=20)\n",
        "df[\"ma10\"] = talib.SMA(np.array(df[\"Close\"]), timeperiod=10)\n",
        "df[\"roc\"] = talib.ROC(np.array(df[\"Close\"]), timeperiod=10)\n",
        "df[\"ult\"] = talib.ULTOSC(np.array(df[\"High\"]), np.array(df[\"Low\"]), np.array(df[\"Close\"]), timeperiod1=7, timeperiod2=14, timeperiod3=28)\n",
        "df[\"will\"] = talib.WILLR(np.array(df[\"High\"]), np.array(df[\"Low\"]), np.array(df[\"Close\"]), timeperiod=14)\n",
        "df[\"return_1df\"] = df[\"return_log\"].shift(-1)\n",
        "\n"
      ],
      "execution_count": 0,
      "outputs": []
    },
    {
      "cell_type": "code",
      "metadata": {
        "id": "Itau9maDWamN",
        "colab_type": "code",
        "colab": {}
      },
      "source": [
        "df = df.dropna()\n",
        "# Create a copy of data set for denoising\n",
        "df_ = df.copy()\n",
        "df_ = df_.drop([\"return_1df\"], axis=1)\n",
        "df.index\n",
        "df = df['2017-09-06':'2018-11-12']\n",
        "df_ = df_['2017-09-06':'2018-11-12']\n",
        "\n",
        "scap_data_X = np.array(df_.values)\n",
        "scap_data_y = np.array(df[\"return_1df\"].values)"
      ],
      "execution_count": 0,
      "outputs": []
    },
    {
      "cell_type": "code",
      "metadata": {
        "id": "1M9gv1ivQkYH",
        "colab_type": "code",
        "colab": {}
      },
      "source": [
        "scap_data_y = scap_data_y.reshape(-1, n_steps, 1)\n",
        "scap_data_X = scaler_min.transform(scap_data_X.reshape(-1, 40))"
      ],
      "execution_count": 0,
      "outputs": []
    },
    {
      "cell_type": "code",
      "metadata": {
        "id": "QB1ABSmoWmlk",
        "colab_type": "code",
        "colab": {}
      },
      "source": [
        "scap_data_X = scap_data_X.reshape(-1, n_steps, 40)"
      ],
      "execution_count": 0,
      "outputs": []
    },
    {
      "cell_type": "code",
      "metadata": {
        "id": "a3BI0qnIWqii",
        "colab_type": "code",
        "outputId": "5e7f693d-c4ff-4713-991b-9265ca4d8aa4",
        "colab": {
          "base_uri": "https://localhost:8080/",
          "height": 54
        }
      },
      "source": [
        "with tf.Session() as sess:\n",
        "    saver.restore(sess, \"/content/gdrive/My Drive/Colab Notebooks/my_LSTM_model_grad_trial_5\")\n",
        "    #saver.save(sess, \"/content/gdrive/My Drive/Colab Notebooks/my_LSTM_model_grad_trial_5\")\n",
        "    X_new = scap_data_X\n",
        "    y_pred = sess.run(outputs, feed_dict={X: X_new})\n",
        "    "
      ],
      "execution_count": 0,
      "outputs": [
        {
          "output_type": "stream",
          "text": [
            "INFO:tensorflow:Restoring parameters from /content/gdrive/My Drive/Colab Notebooks/my_LSTM_model_grad_trial_5\n"
          ],
          "name": "stdout"
        }
      ]
    },
    {
      "cell_type": "code",
      "metadata": {
        "id": "MOeHnd1TXA54",
        "colab_type": "code",
        "outputId": "580626af-66bc-4822-beb1-e4715f0e0981",
        "colab": {
          "base_uri": "https://localhost:8080/",
          "height": 286
        }
      },
      "source": [
        "plt.plot(scap_data_y.reshape((-1, 1)), label = \"Real Returns\")\n",
        "plt.plot(y_pred.reshape((-1, 1)), label = \"Predicted Returns\")"
      ],
      "execution_count": 0,
      "outputs": [
        {
          "output_type": "execute_result",
          "data": {
            "text/plain": [
              "[<matplotlib.lines.Line2D at 0x7f08ee3c5ba8>]"
            ]
          },
          "metadata": {
            "tags": []
          },
          "execution_count": 368
        },
        {
          "output_type": "display_data",
          "data": {
            "image/png": "[encoded data removed]",
            "text/plain": [
              "<Figure size 432x288 with 1 Axes>"
            ]
          },
          "metadata": {
            "tags": []
          }
        }
      ]
    },
    {
      "cell_type": "code",
      "metadata": {
        "id": "_uBGfkLxXIna",
        "colab_type": "code",
        "outputId": "f3b38eac-0cf3-4920-fa53-95cecd36e78f",
        "colab": {
          "base_uri": "https://localhost:8080/",
          "height": 34
        }
      },
      "source": [
        "comparison_change_scap = pd.concat([pd.DataFrame(scap_data_y.reshape((-1, 1))), \n",
        "                        pd.DataFrame(y_pred.reshape((-1, 1)))], axis=1)\n",
        "\n",
        "# Calculate the pct change    \n",
        "comparison_change_scap.columns = [\"True\", \"Pred\"]\n",
        "# Tranform regression predictions to classification\n",
        "test = []\n",
        "for a in comparison_change_scap[\"True\"]:\n",
        "    if a >= 0:\n",
        "        test.append(1)\n",
        "    else:\n",
        "        test.append(0)\n",
        "\n",
        "pred = []\n",
        "for a in comparison_change_scap[\"Pred\"]:\n",
        "    if a >= 0:\n",
        "        pred.append(1)\n",
        "    else:\n",
        "        pred.append(0)\n",
        "\n",
        "# Classification Report\n",
        "accuracy_score(test, pred)"
      ],
      "execution_count": 0,
      "outputs": [
        {
          "output_type": "execute_result",
          "data": {
            "text/plain": [
              "0.6566666666666666"
            ]
          },
          "metadata": {
            "tags": []
          },
          "execution_count": 370
        }
      ]
    },
    {
      "cell_type": "code",
      "metadata": {
        "id": "3JPLalgYXV-b",
        "colab_type": "code",
        "outputId": "337206aa-a55f-4b8a-93e6-0b0cf8f89b88",
        "colab": {
          "base_uri": "https://localhost:8080/",
          "height": 170
        }
      },
      "source": [
        "# Scores on scap index, better than expected, probably it will perform better on SP ETF or large cap index\n",
        "print(classification_report(test, pred))"
      ],
      "execution_count": 0,
      "outputs": [
        {
          "output_type": "stream",
          "text": [
            "              precision    recall  f1-score   support\n",
            "\n",
            "           0       0.65      0.52      0.58       135\n",
            "           1       0.66      0.77      0.71       165\n",
            "\n",
            "    accuracy                           0.66       300\n",
            "   macro avg       0.65      0.64      0.64       300\n",
            "weighted avg       0.66      0.66      0.65       300\n",
            "\n"
          ],
          "name": "stdout"
        }
      ]
    }
  ]
}